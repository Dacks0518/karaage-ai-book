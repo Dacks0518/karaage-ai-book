{
  "nbformat": 4,
  "nbformat_minor": 0,
  "metadata": {
    "colab": {
      "name": "03_karaage_ai_book_word_vector.ipynb",
      "provenance": [],
      "authorship_tag": "ABX9TyNMjJVrP6wqUgFV/G65Rlgr",
      "include_colab_link": true
    },
    "kernelspec": {
      "name": "python3",
      "display_name": "Python 3"
    }
  },
  "cells": [
    {
      "cell_type": "markdown",
      "metadata": {
        "id": "view-in-github",
        "colab_type": "text"
      },
      "source": [
        "<a href=\"https://colab.research.google.com/github/karaage0703/karaage-ai-book/blob/master/ch03/03_karaage_ai_book_word_vector.ipynb\" target=\"_parent\"><img src=\"https://colab.research.google.com/assets/colab-badge.svg\" alt=\"Open In Colab\"/></a>"
      ]
    },
    {
      "cell_type": "markdown",
      "metadata": {
        "id": "aIhzk6jIOwbv"
      },
      "source": [
        "# テキストのOne-Hot-ベクトル化"
      ]
    },
    {
      "cell_type": "markdown",
      "metadata": {
        "id": "MLvuxZJ1O1WW"
      },
      "source": [
        "簡単な例文"
      ]
    },
    {
      "cell_type": "code",
      "metadata": {
        "id": "4ePwAAMjNF2_"
      },
      "source": [
        "text = 'からあげ'"
      ],
      "execution_count": null,
      "outputs": []
    },
    {
      "cell_type": "markdown",
      "metadata": {
        "id": "494rEMpKO-pi"
      },
      "source": [
        "ベクトル化するためのインデックスを作成します。"
      ]
    },
    {
      "cell_type": "code",
      "metadata": {
        "id": "H9bNDVdeNRLk"
      },
      "source": [
        "chars = sorted(list(set(text)))\n",
        "\n",
        "char_indices = dict((c, i) for i, c in enumerate(chars))\n",
        "indices_char = dict((i, c) for i, c in enumerate(chars))"
      ],
      "execution_count": null,
      "outputs": []
    },
    {
      "cell_type": "markdown",
      "metadata": {
        "id": "JQtx6skGIBQ4"
      },
      "source": [
        "インデックスは以下です。\n",
        "\n",
        "文字に対応したインデックス番号の辞書と、インデックス番号に対応した辞書を作成して、双方向的に対応を確認できるようにしています。"
      ]
    },
    {
      "cell_type": "code",
      "metadata": {
        "id": "I7KZ5vAoNdmd",
        "outputId": "40085ff1-4849-461e-8098-07b530f25954",
        "colab": {
          "base_uri": "https://localhost:8080/"
        }
      },
      "source": [
        "print('total chars:', len(chars))\n",
        "print(char_indices)\n",
        "print(indices_char)"
      ],
      "execution_count": null,
      "outputs": [
        {
          "output_type": "stream",
          "text": [
            "total chars: 4\n",
            "{'あ': 0, 'か': 1, 'げ': 2, 'ら': 3}\n",
            "{0: 'あ', 1: 'か', 2: 'げ', 3: 'ら'}\n"
          ],
          "name": "stdout"
        }
      ]
    },
    {
      "cell_type": "markdown",
      "metadata": {
        "id": "FckURnoAPS0x"
      },
      "source": [
        "ベクトル化します。\n",
        "\n",
        "結果を見やすくするために型をint(`dtype=np.int`)にしていますが、本来のチュートリアルは2値(`dtype=np.bool`)です。"
      ]
    },
    {
      "cell_type": "code",
      "metadata": {
        "id": "fZ8GSEjCGFl1",
        "outputId": "c8243bfb-fa08-4b95-e4bb-7273c361ee1e",
        "colab": {
          "base_uri": "https://localhost:8080/"
        }
      },
      "source": [
        "import numpy as np\n",
        "\n",
        "print('Vectorization...')\n",
        "x = np.zeros((len(chars), len(chars)), dtype=np.int)\n",
        "for t, char in enumerate(text):\n",
        "  x[t, char_indices[char]] = 1"
      ],
      "execution_count": null,
      "outputs": [
        {
          "output_type": "stream",
          "text": [
            "Vectorization...\n"
          ],
          "name": "stdout"
        }
      ]
    },
    {
      "cell_type": "markdown",
      "metadata": {
        "id": "AO2VtA9wIUjw"
      },
      "source": [
        "中身を確認します。"
      ]
    },
    {
      "cell_type": "code",
      "metadata": {
        "id": "E4aVwHZhG1AT",
        "outputId": "6160344b-c003-4d4a-8026-2f736ccefa6d",
        "colab": {
          "base_uri": "https://localhost:8080/"
        }
      },
      "source": [
        "x"
      ],
      "execution_count": null,
      "outputs": [
        {
          "output_type": "execute_result",
          "data": {
            "text/plain": [
              "array([[0, 1, 0, 0],\n",
              "       [0, 0, 0, 1],\n",
              "       [1, 0, 0, 0],\n",
              "       [0, 0, 1, 0]])"
            ]
          },
          "metadata": {
            "tags": []
          },
          "execution_count": 19
        }
      ]
    }
  ]
}
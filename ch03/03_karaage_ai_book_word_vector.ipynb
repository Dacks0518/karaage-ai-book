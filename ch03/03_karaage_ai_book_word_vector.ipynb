{
  "nbformat": 4,
  "nbformat_minor": 0,
  "metadata": {
    "colab": {
      "name": "03_karaage_ai_book_word_vector.ipynb",
      "provenance": [],
      "authorship_tag": "ABX9TyO3ogO26NXejvW/Bx5gqyVY",
      "include_colab_link": true
    },
    "kernelspec": {
      "name": "python3",
      "display_name": "Python 3"
    }
  },
  "cells": [
    {
      "cell_type": "markdown",
      "metadata": {
        "id": "view-in-github",
        "colab_type": "text"
      },
      "source": [
        "<a href=\"https://colab.research.google.com/github/karaage0703/karaage-ai-book/blob/master/ch03/03_karaage_ai_book_word_vector.ipynb\" target=\"_parent\"><img src=\"https://colab.research.google.com/assets/colab-badge.svg\" alt=\"Open In Colab\"/></a>"
      ]
    },
    {
      "cell_type": "markdown",
      "metadata": {
        "id": "aIhzk6jIOwbv"
      },
      "source": [
        "# テキストのOne-Hot-ベクトル化"
      ]
    },
    {
      "cell_type": "markdown",
      "metadata": {
        "id": "MLvuxZJ1O1WW"
      },
      "source": [
        "簡単な例文"
      ]
    },
    {
      "cell_type": "code",
      "metadata": {
        "id": "4ePwAAMjNF2_"
      },
      "source": [
        "text = '私はからあげが好きだ'"
      ],
      "execution_count": 7,
      "outputs": []
    },
    {
      "cell_type": "markdown",
      "metadata": {
        "id": "ABoR1JSLO2sO"
      },
      "source": [
        "5文字をひとまとまりで2文字ずつスライドさせる"
      ]
    },
    {
      "cell_type": "code",
      "metadata": {
        "id": "Z4u0-JBjNttq"
      },
      "source": [
        "# cut the text in semi-redundant sequences of MAXLEN characters\n",
        "MAXLEN = 5\n",
        "STEP = 2\n",
        "\n",
        "sentences = []\n",
        "next_chars = []\n",
        "for i in range(0, len(text) - MAXLEN, STEP):\n",
        "  sentences.append(text[i:i + MAXLEN])\n",
        "  next_chars.append(text[i + MAXLEN])"
      ],
      "execution_count": 10,
      "outputs": []
    },
    {
      "cell_type": "markdown",
      "metadata": {
        "id": "24ZqE-CuO9Md"
      },
      "source": [
        "中身を表示"
      ]
    },
    {
      "cell_type": "code",
      "metadata": {
        "id": "6L0DRmoONuaT",
        "outputId": "dbb053a9-b782-4873-9a17-4f1bf8a4ab28",
        "colab": {
          "base_uri": "https://localhost:8080/"
        }
      },
      "source": [
        "print('nb sequences:', len(sentences))\n",
        "print(sentences[0:10])\n",
        "print(next_chars[0:10])"
      ],
      "execution_count": 13,
      "outputs": [
        {
          "output_type": "stream",
          "text": [
            "nb sequences: 3\n",
            "['私はからあ', 'からあげが', 'あげが好き']\n",
            "['げ', '好', 'だ']\n"
          ],
          "name": "stdout"
        }
      ]
    },
    {
      "cell_type": "markdown",
      "metadata": {
        "id": "494rEMpKO-pi"
      },
      "source": [
        "ベクトル化するためのインデックスを作成"
      ]
    },
    {
      "cell_type": "code",
      "metadata": {
        "id": "H9bNDVdeNRLk",
        "outputId": "f0ad1c3c-c528-48b9-beaf-2b608e95b666",
        "colab": {
          "base_uri": "https://localhost:8080/"
        }
      },
      "source": [
        "chars = sorted(list(set(text)))\n",
        "\n",
        "char_indices = dict((c, i) for i, c in enumerate(chars))\n",
        "indices_char = dict((i, c) for i, c in enumerate(chars))"
      ],
      "execution_count": 14,
      "outputs": [
        {
          "output_type": "stream",
          "text": [
            "total chars: 10\n"
          ],
          "name": "stdout"
        }
      ]
    },
    {
      "cell_type": "code",
      "metadata": {
        "id": "I7KZ5vAoNdmd",
        "outputId": "5fecd28d-4817-4a88-cbad-d5d199ba8968",
        "colab": {
          "base_uri": "https://localhost:8080/"
        }
      },
      "source": [
        "print('total chars:', len(chars))\n",
        "print(char_indices)\n",
        "print(indices_char)"
      ],
      "execution_count": 22,
      "outputs": [
        {
          "output_type": "stream",
          "text": [
            "total chars: 10\n",
            "{'あ': 0, 'か': 1, 'が': 2, 'き': 3, 'げ': 4, 'だ': 5, 'は': 6, 'ら': 7, '好': 8, '私': 9}\n",
            "{0: 'あ', 1: 'か', 2: 'が', 3: 'き', 4: 'げ', 5: 'だ', 6: 'は', 7: 'ら', 8: '好', 9: '私'}\n"
          ],
          "name": "stdout"
        }
      ]
    },
    {
      "cell_type": "markdown",
      "metadata": {
        "id": "FckURnoAPS0x"
      },
      "source": [
        "ベクトル化します。\n",
        "\n",
        "結果を見やすくするために型をint(`dtype=np.int`)にしていますが、本来のチュートリアルは2値(`dtype=np.bool`)です。"
      ]
    },
    {
      "cell_type": "code",
      "metadata": {
        "id": "WqEhoWvZNfzG",
        "outputId": "af4bc1c6-c370-4cc6-98ea-f0c9b1855179",
        "colab": {
          "base_uri": "https://localhost:8080/"
        }
      },
      "source": [
        "import numpy as np\n",
        "\n",
        "print('Vectorization...')\n",
        "x = np.zeros((len(sentences), MAXLEN, len(chars)), dtype=np.int)\n",
        "y = np.zeros((len(sentences), len(chars)), dtype=np.int)\n",
        "for i, sentence in enumerate(sentences):\n",
        "  for t, char in enumerate(sentence):\n",
        "    x[i, t, char_indices[char]] = 1\n",
        "  y[i, char_indices[next_chars[i]]] = 1"
      ],
      "execution_count": 23,
      "outputs": [
        {
          "output_type": "stream",
          "text": [
            "Vectorization...\n"
          ],
          "name": "stdout"
        }
      ]
    },
    {
      "cell_type": "code",
      "metadata": {
        "id": "xdnpBOGzNikg",
        "outputId": "f32dcc45-f7de-4b89-99ac-8202a385f593",
        "colab": {
          "base_uri": "https://localhost:8080/"
        }
      },
      "source": [
        "print(x)"
      ],
      "execution_count": 24,
      "outputs": [
        {
          "output_type": "stream",
          "text": [
            "[[[0 0 0 0 0 0 0 0 0 1]\n",
            "  [0 0 0 0 0 0 1 0 0 0]\n",
            "  [0 1 0 0 0 0 0 0 0 0]\n",
            "  [0 0 0 0 0 0 0 1 0 0]\n",
            "  [1 0 0 0 0 0 0 0 0 0]]\n",
            "\n",
            " [[0 1 0 0 0 0 0 0 0 0]\n",
            "  [0 0 0 0 0 0 0 1 0 0]\n",
            "  [1 0 0 0 0 0 0 0 0 0]\n",
            "  [0 0 0 0 1 0 0 0 0 0]\n",
            "  [0 0 1 0 0 0 0 0 0 0]]\n",
            "\n",
            " [[1 0 0 0 0 0 0 0 0 0]\n",
            "  [0 0 0 0 1 0 0 0 0 0]\n",
            "  [0 0 1 0 0 0 0 0 0 0]\n",
            "  [0 0 0 0 0 0 0 0 1 0]\n",
            "  [0 0 0 1 0 0 0 0 0 0]]]\n"
          ],
          "name": "stdout"
        }
      ]
    },
    {
      "cell_type": "code",
      "metadata": {
        "id": "8mZcr80AOFIm",
        "outputId": "918ee800-2500-4dce-f61f-9892b079cfa2",
        "colab": {
          "base_uri": "https://localhost:8080/"
        }
      },
      "source": [
        "print(y)"
      ],
      "execution_count": 21,
      "outputs": [
        {
          "output_type": "stream",
          "text": [
            "[[0 0 0 0 1 0 0 0 0 0]\n",
            " [0 0 0 0 0 0 0 0 1 0]\n",
            " [0 0 0 0 0 1 0 0 0 0]]\n"
          ],
          "name": "stdout"
        }
      ]
    }
  ]
}
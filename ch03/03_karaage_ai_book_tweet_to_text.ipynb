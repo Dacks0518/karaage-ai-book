{
  "nbformat": 4,
  "nbformat_minor": 0,
  "metadata": {
    "colab": {
      "name": "03_karaage_ai_book_tweet_to_text.ipynb",
      "provenance": [],
      "collapsed_sections": [],
      "authorship_tag": "ABX9TyO9B53vHHidQpKVncqmSGPe",
      "include_colab_link": true
    },
    "kernelspec": {
      "name": "python3",
      "display_name": "Python 3"
    }
  },
  "cells": [
    {
      "cell_type": "markdown",
      "metadata": {
        "id": "view-in-github",
        "colab_type": "text"
      },
      "source": [
        "<a href=\"https://colab.research.google.com/github/karaage0703/karaage-ai-book/blob/master/ch03/03_karaage_ai_book_tweet_to_text.ipynb\" target=\"_parent\"><img src=\"https://colab.research.google.com/assets/colab-badge.svg\" alt=\"Open In Colab\"/></a>"
      ]
    },
    {
      "cell_type": "markdown",
      "metadata": {
        "id": "Y0d0qaUe38iZ"
      },
      "source": [
        "# Twitterのアーカイブをテキストデータへ変換\n",
        "\n",
        "Twitterのアーカイブをテキストデータへ変換するためのNotebookです。"
      ]
    },
    {
      "cell_type": "markdown",
      "metadata": {
        "id": "rdjqbWwuqzWH"
      },
      "source": [
        "## ツイートデータの変換\n"
      ]
    },
    {
      "cell_type": "markdown",
      "metadata": {
        "id": "e1n2nNOsrQmg"
      },
      "source": [
        "ツイートデータ(tweet.js)のアップロード"
      ]
    },
    {
      "cell_type": "code",
      "metadata": {
        "id": "PXq7ECWTtwSW"
      },
      "source": [
        "from google.colab import files\n",
        "uploaded = files.upload()"
      ],
      "execution_count": null,
      "outputs": []
    },
    {
      "cell_type": "markdown",
      "metadata": {
        "id": "Vn_FWwdgRVM4"
      },
      "source": [
        "ファイルが重い場合はGoogle Driveにアップロードしてから読み込みましょう"
      ]
    },
    {
      "cell_type": "code",
      "metadata": {
        "id": "J2Uz0LOlTLsD"
      },
      "source": [
        "from google.colab import drive\n",
        "drive.mount('/content/drive')"
      ],
      "execution_count": null,
      "outputs": []
    },
    {
      "cell_type": "markdown",
      "metadata": {
        "id": "mwi9MSI8TmI1"
      },
      "source": [
        "マイドライブからコピーしましょう（以下はMy Driveにtwitterdataというフォルダを作成してその中に tweet.jsを置いておいた場合の例です）。"
      ]
    },
    {
      "cell_type": "code",
      "metadata": {
        "id": "eJibUhSqTRTi"
      },
      "source": [
        "!cp /content/drive/My\\ Drive/twitterdata/tweet.js /content/"
      ],
      "execution_count": null,
      "outputs": []
    },
    {
      "cell_type": "markdown",
      "metadata": {
        "id": "jbo-tNzDR2yk"
      },
      "source": [
        "ツイートを変換します"
      ]
    },
    {
      "cell_type": "code",
      "metadata": {
        "id": "-xDeVm5IVk8G"
      },
      "source": [
        "import json\n",
        "import re\n",
        "\n",
        "tweet_jsons = open('tweet.js', encoding='utf-8')\n",
        "tweet_jsons = tweet_jsons.read()\n",
        "tweet_jsons = re.sub('window.YTD.tweet.part0 = ', '', tweet_jsons)\n",
        "tweet_jsons = json.loads(tweet_jsons)\n",
        "\n",
        "analysis_tweet = []\n",
        "\n",
        "for tweet_json in tweet_jsons:\n",
        "  try:\n",
        "    tweet_text = tweet_json['tweet']['full_text']\n",
        "    tweet_header = tweet_text.split(\":\")[0]\n",
        "    if not 'RT' in tweet_header:\n",
        "      analysis_tweet.append(tweet_text)\n",
        "  except:\n",
        "    pass"
      ],
      "execution_count": null,
      "outputs": []
    },
    {
      "cell_type": "code",
      "metadata": {
        "id": "FZrAqSPndZIe",
        "outputId": "c9a0cceb-2786-42ca-c1b8-1dead048a501",
        "colab": {
          "base_uri": "https://localhost:8080/",
          "height": 207
        }
      },
      "source": [
        "analysis_tweet[0:10]"
      ],
      "execution_count": null,
      "outputs": [
        {
          "output_type": "execute_result",
          "data": {
            "text/plain": [
              "[\"開始10秒で腹筋崩壊したw &gt; SMELLS LIKE TEEN SPIRIT - NIRVANA // ROCK'N'TOYS SESSIONS #12 - THE WACKIDS https://t.co/xdXMVfvBhv @YouTubeさんから\",\n",
              " 'ディープラーニング系の論文、要素要素は何をしているのかなんとか理解できるのですが、全体で何でこんな凄まじい性能がでるのかはサッパリ分からないですよね。\\nそういうものだという理解ですが。',\n",
              " '@hack_tnr たしかにドロン大事',\n",
              " 'この本、めちゃ良書な予感です。まじめな話、忍術はビジネスに使えると思います。印を結ぶことによるメンタルコントロール、なんと消臭術もあるからエチケットにも使える。あと、忍者の歴史を知ればグローバルコミュニケーションにも使えます。今年は仕事を忍術で乗り切ろうと思います。',\n",
              " 'たまにはビジネスに役立ちそうな本でも読んでみようかなということで、今日はこの本を買って読んでみることにします。本物の忍者が書いた忍術本の決定版！ &gt; 「忍びの秘伝３１\\u3000忍術教本」\\nKindle: https://t.co/e03fZmuyYi',\n",
              " '@satoshigarage 新しいの使っても、それほど違い感じないのですよね。鈍感なのかもw',\n",
              " '7年前に買ったMac Book Proを未だに使い続けてるけど、特に困ってないので買い時を逃し続けています。',\n",
              " 'テレワークのテレって何mmですか？って凄いパワーワードw &gt; 【カメラバカにつける薬 in デジカメ Watch】テレワークよりアポワーク（その1） - デジカメ Watch https://t.co/W4Q8xdH6ps',\n",
              " '@ML_deep まあ、データたくさんないと基本的に無力ですよねー。パラーメーターお化けでおすし',\n",
              " 'はてなブログに投稿しました #はてなブログ\\nタミヤのマイコンロボット工作セットでmicro:bit入門 - karaage. [からあげ]\\nhttps://t.co/XAX9zA7iBv']"
            ]
          },
          "metadata": {
            "tags": []
          },
          "execution_count": 41
        }
      ]
    },
    {
      "cell_type": "code",
      "metadata": {
        "id": "_9gdQfH0m0R8"
      },
      "source": [
        "save_text = ''\n",
        "for text in analysis_tweet:\n",
        "  save_text += text\n",
        "  save_text += '\\n'"
      ],
      "execution_count": null,
      "outputs": []
    },
    {
      "cell_type": "code",
      "metadata": {
        "id": "z-8Xn05fW_YA",
        "outputId": "f5a45113-ad55-49e1-d155-fca05f08a75d",
        "colab": {
          "base_uri": "https://localhost:8080/",
          "height": 34
        }
      },
      "source": [
        "save_text[0:100]"
      ],
      "execution_count": null,
      "outputs": [
        {
          "output_type": "execute_result",
          "data": {
            "text/plain": [
              "\"開始10秒で腹筋崩壊したw &gt; SMELLS LIKE TEEN SPIRIT - NIRVANA // ROCK'N'TOYS SESSIONS #12 - THE WACKIDS https\""
            ]
          },
          "metadata": {
            "tags": []
          },
          "execution_count": 47
        }
      ]
    },
    {
      "cell_type": "markdown",
      "metadata": {
        "id": "HeZc9kJzpDFh"
      },
      "source": [
        "テキストファイルに保存します"
      ]
    },
    {
      "cell_type": "code",
      "metadata": {
        "id": "hvHooFKinGCb",
        "outputId": "f5aa37af-ceee-4484-b6fc-7a423c66bdec",
        "colab": {
          "base_uri": "https://localhost:8080/",
          "height": 34
        }
      },
      "source": [
        "with open('analysis_tweet.txt', 'w', encoding='utf-8') as f:\n",
        "    f.write(save_text)\n",
        "print(\"file is saved\")"
      ],
      "execution_count": null,
      "outputs": [
        {
          "output_type": "stream",
          "text": [
            "file is saved\n"
          ],
          "name": "stdout"
        }
      ]
    },
    {
      "cell_type": "markdown",
      "metadata": {
        "id": "XzLgGfZSR-v-"
      },
      "source": [
        "テキストファイルをダウンロードします。"
      ]
    },
    {
      "cell_type": "code",
      "metadata": {
        "id": "FQV-8cb59SOs"
      },
      "source": [
        "from google.colab import files\n",
        "files.download('analysis_tweet.txt')"
      ],
      "execution_count": null,
      "outputs": []
    },
    {
      "cell_type": "markdown",
      "metadata": {
        "id": "qKsAr2AYncvJ"
      },
      "source": [
        "Google Driveを使用する場合は、以下です。"
      ]
    },
    {
      "cell_type": "code",
      "metadata": {
        "id": "JAXXcg_6ncBX"
      },
      "source": [
        "!cp /content/analysis_tweet.txt /content/drive/My\\ Drive/twitterdata/analysis_tweet.txt"
      ],
      "execution_count": null,
      "outputs": []
    },
    {
      "cell_type": "markdown",
      "metadata": {
        "id": "D49IDoWAbD5v"
      },
      "source": [
        "# 参考リンク\n",
        "\n",
        "https://qiita.com/kenkensz9/items/48a87c01d327aba8ccf6"
      ]
    },
    {
      "cell_type": "markdown",
      "metadata": {
        "id": "wjU3UVIcmlF2"
      },
      "source": [
        "# メモ\n"
      ]
    },
    {
      "cell_type": "markdown",
      "metadata": {
        "id": "VVtZOxe4mnws"
      },
      "source": [
        "## pandasを使った変換例"
      ]
    },
    {
      "cell_type": "code",
      "metadata": {
        "id": "04HXJpeJbErH"
      },
      "source": [
        "import pandas as pd\n",
        "import json\n",
        "import re\n",
        "\n",
        "tweet_jsons = open('tweet.js', encoding='utf-8')\n",
        "tweet_jsons = tweet_jsons.read()\n",
        "tweet_jsons = re.sub('window.YTD.tweet.part0 = ', '', tweet_jsons)\n",
        "tweet_pandas = pd.read_json(tweet_jsons)"
      ],
      "execution_count": null,
      "outputs": []
    },
    {
      "cell_type": "code",
      "metadata": {
        "id": "6D0nfM2YjPy7"
      },
      "source": [
        "analysis_tweet = []\n",
        "\n",
        "for n in range(tweet_pandas.shape[0]):\n",
        "  try:    \n",
        "    tweet_text = tweet_pandas['tweet'][n]['full_text']\n",
        "    tweet_header = tweet_text.split(':')[0]\n",
        "    if not 'RT' in tweet_header:\n",
        "      analysis_tweet.append(tweet_text)\n",
        "  except:\n",
        "    pass"
      ],
      "execution_count": null,
      "outputs": []
    },
    {
      "cell_type": "code",
      "metadata": {
        "id": "rcPdAG20kQ5D",
        "outputId": "3cd24c60-a024-40f5-9a14-43b4110600c2",
        "colab": {
          "base_uri": "https://localhost:8080/",
          "height": 34
        }
      },
      "source": [
        "save_text = ''\n",
        "for text in analysis_tweet:\n",
        "  save_text += text\n",
        "  save_text += '\\n'"
      ],
      "execution_count": null,
      "outputs": [
        {
          "output_type": "execute_result",
          "data": {
            "text/plain": [
              "51254"
            ]
          },
          "metadata": {
            "tags": []
          },
          "execution_count": 37
        }
      ]
    }
  ]
}
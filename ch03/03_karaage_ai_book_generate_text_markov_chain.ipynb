{
  "nbformat": 4,
  "nbformat_minor": 0,
  "metadata": {
    "colab": {
      "name": "03_karaage_ai_book_generate_text_markov_chain.ipynb",
      "provenance": [],
      "collapsed_sections": [],
      "machine_shape": "hm",
      "include_colab_link": true
    },
    "kernelspec": {
      "name": "python3",
      "display_name": "Python 3"
    }
  },
  "cells": [
    {
      "cell_type": "markdown",
      "metadata": {
        "id": "view-in-github",
        "colab_type": "text"
      },
      "source": [
        "<a href=\"https://colab.research.google.com/github/karaage0703/karaage-ai-book/blob/master/ch03/03_karaage_ai_book_generate_text_markov_chain.ipynb\" target=\"_parent\"><img src=\"https://colab.research.google.com/assets/colab-badge.svg\" alt=\"Open In Colab\"/></a>"
      ]
    },
    {
      "cell_type": "markdown",
      "metadata": {
        "id": "qATBzdhLTpK-"
      },
      "source": [
        "# マルコフ連鎖による文章生成"
      ]
    },
    {
      "cell_type": "markdown",
      "metadata": {
        "id": "vOHw6hhknT2L"
      },
      "source": [
        "## 教師データのダウンロード"
      ]
    },
    {
      "cell_type": "code",
      "metadata": {
        "id": "JDoMaTCxnV3f",
        "outputId": "0679b398-984a-4da1-e429-544a10654c6d",
        "colab": {
          "base_uri": "https://localhost:8080/"
        }
      },
      "source": [
        "!wget https://github.com/aozorabunko/aozorabunko/raw/master/cards/000096/files/2093_ruby_28087.zip\n",
        "!unzip 2093_ruby_28087.zip"
      ],
      "execution_count": 1,
      "outputs": [
        {
          "output_type": "stream",
          "text": [
            "--2020-11-16 13:57:56--  https://github.com/aozorabunko/aozorabunko/raw/master/cards/000096/files/2093_ruby_28087.zip\n",
            "Resolving github.com (github.com)... 140.82.112.4\n",
            "Connecting to github.com (github.com)|140.82.112.4|:443... connected.\n",
            "HTTP request sent, awaiting response... 302 Found\n",
            "Location: https://raw.githubusercontent.com/aozorabunko/aozorabunko/master/cards/000096/files/2093_ruby_28087.zip [following]\n",
            "--2020-11-16 13:57:56--  https://raw.githubusercontent.com/aozorabunko/aozorabunko/master/cards/000096/files/2093_ruby_28087.zip\n",
            "Resolving raw.githubusercontent.com (raw.githubusercontent.com)... 151.101.0.133, 151.101.64.133, 151.101.128.133, ...\n",
            "Connecting to raw.githubusercontent.com (raw.githubusercontent.com)|151.101.0.133|:443... connected.\n",
            "HTTP request sent, awaiting response... 200 OK\n",
            "Length: 421747 (412K) [application/zip]\n",
            "Saving to: ‘2093_ruby_28087.zip’\n",
            "\n",
            "2093_ruby_28087.zip 100%[===================>] 411.86K  --.-KB/s    in 0.03s   \n",
            "\n",
            "2020-11-16 13:57:56 (11.9 MB/s) - ‘2093_ruby_28087.zip’ saved [421747/421747]\n",
            "\n",
            "Archive:  2093_ruby_28087.zip\n",
            "Made with MacWinZipper™\n",
            "  inflating: dogura_magura.txt       \n"
          ],
          "name": "stdout"
        }
      ]
    },
    {
      "cell_type": "markdown",
      "metadata": {
        "id": "v1agck95_7FM"
      },
      "source": [
        "ファイルを読み込みます"
      ]
    },
    {
      "cell_type": "code",
      "metadata": {
        "id": "tsTD2K2v_XGa"
      },
      "source": [
        "text_list = []\n",
        "with open('dogura_magura.txt', encoding='shift_jis') as f:\n",
        "  text_list = f.readlines()"
      ],
      "execution_count": 2,
      "outputs": []
    },
    {
      "cell_type": "code",
      "metadata": {
        "id": "O_qwBFEVCPFL",
        "outputId": "f165c6eb-1ab9-4666-a115-398e348fe935",
        "colab": {
          "base_uri": "https://localhost:8080/"
        }
      },
      "source": [
        "text_list[0:10]"
      ],
      "execution_count": 3,
      "outputs": [
        {
          "output_type": "execute_result",
          "data": {
            "text/plain": [
              "['ドグラ・マグラ\\n',\n",
              " '夢野久作\\n',\n",
              " '\\n',\n",
              " '-------------------------------------------------------\\n',\n",
              " '【テキスト中に現れる記号について】\\n',\n",
              " '\\n',\n",
              " '《》：ルビ\\n',\n",
              " '（例）蜜蜂《みつばち》\\n',\n",
              " '\\n',\n",
              " '｜：ルビの付く文字列の始まりを特定する記号\\n']"
            ]
          },
          "metadata": {
            "tags": []
          },
          "execution_count": 3
        }
      ]
    },
    {
      "cell_type": "markdown",
      "metadata": {
        "id": "uroD0EYMcc4B"
      },
      "source": [
        "## データの前処理\n"
      ]
    },
    {
      "cell_type": "markdown",
      "metadata": {
        "id": "DibPLsKYek_Q"
      },
      "source": [
        "不要な文字の削除"
      ]
    },
    {
      "cell_type": "code",
      "metadata": {
        "id": "IaMf4TBVF8Ep"
      },
      "source": [
        "import re\n",
        "def normalize_text(text):\n",
        "  text = re.sub(r'》', '', text)\n",
        "  text = re.sub(r'※', '', text)\n",
        "  text = re.sub(r'《', '', text)\n",
        "  text = re.sub(r'［', '', text)\n",
        "  text = re.sub(r'＃', '', text)\n",
        "  text = re.sub(r'-', '', text)\n",
        "  text = re.sub(r'｜', '', text)\n",
        "  text = re.sub(r'］', '', text)\n",
        "  text = re.sub(r'［', '', text)\n",
        "  text = re.sub(r'【','', text)\n",
        "  text = re.sub(r'】','', text)\n",
        "  text = text.strip()\n",
        "  return text"
      ],
      "execution_count": 4,
      "outputs": []
    },
    {
      "cell_type": "code",
      "metadata": {
        "id": "fmE9s8MkF_ye"
      },
      "source": [
        "new_text_list = []\n",
        "for text in text_list:\n",
        "  text = normalize_text(text)\n",
        "  new_text_list.append(text)\n",
        "\n",
        "text_list = new_text_list"
      ],
      "execution_count": 5,
      "outputs": []
    },
    {
      "cell_type": "code",
      "metadata": {
        "id": "YgDxMpGLfrK7",
        "outputId": "50990151-a52b-4889-919b-cef8b2cb7cb7",
        "colab": {
          "base_uri": "https://localhost:8080/"
        }
      },
      "source": [
        "text_list[0:10]"
      ],
      "execution_count": 6,
      "outputs": [
        {
          "output_type": "execute_result",
          "data": {
            "text/plain": [
              "['ドグラ・マグラ',\n",
              " '夢野久作',\n",
              " '',\n",
              " '',\n",
              " 'テキスト中に現れる記号について',\n",
              " '',\n",
              " '：ルビ',\n",
              " '（例）蜜蜂みつばち',\n",
              " '',\n",
              " '：ルビの付く文字列の始まりを特定する記号']"
            ]
          },
          "metadata": {
            "tags": []
          },
          "execution_count": 6
        }
      ]
    },
    {
      "cell_type": "markdown",
      "metadata": {
        "id": "NKQXZrEWpUYH"
      },
      "source": [
        "形態素解析ライブラリの「janome」をインストール"
      ]
    },
    {
      "cell_type": "code",
      "metadata": {
        "id": "1QU7-GSM7_Pi",
        "outputId": "52e8c19f-2256-4767-ce84-6e8fc1abc9b8",
        "colab": {
          "base_uri": "https://localhost:8080/"
        }
      },
      "source": [
        "!pip install janome"
      ],
      "execution_count": 7,
      "outputs": [
        {
          "output_type": "stream",
          "text": [
            "Collecting janome\n",
            "\u001b[?25l  Downloading https://files.pythonhosted.org/packages/a8/63/98858cbead27df7536c7e300c169da0999e9704d02220dc6700b804eeff0/Janome-0.4.1-py2.py3-none-any.whl (19.7MB)\n",
            "\u001b[K     |████████████████████████████████| 19.7MB 1.3MB/s \n",
            "\u001b[?25hInstalling collected packages: janome\n",
            "Successfully installed janome-0.4.1\n"
          ],
          "name": "stdout"
        }
      ]
    },
    {
      "cell_type": "markdown",
      "metadata": {
        "id": "SBCrn9egDBPL"
      },
      "source": [
        "分かち書き"
      ]
    },
    {
      "cell_type": "code",
      "metadata": {
        "id": "zHLD1S6_PpPf"
      },
      "source": [
        "from janome.tokenizer import Tokenizer"
      ],
      "execution_count": 8,
      "outputs": []
    },
    {
      "cell_type": "code",
      "metadata": {
        "id": "SR4uqvrhGhgc"
      },
      "source": [
        "def wakachigaki(text_list):\n",
        "  t = Tokenizer()\n",
        "  words = []\n",
        "  for text in text_list:\n",
        "    tokens = t.tokenize(text)\n",
        "    for token in tokens:\n",
        "      pos = token.part_of_speech.split(',')[0]\n",
        "      words.append(token.surface)\n",
        "\n",
        "  text = ' '.join(words)\n",
        "  return text"
      ],
      "execution_count": 9,
      "outputs": []
    },
    {
      "cell_type": "code",
      "metadata": {
        "id": "yDYyPQKISp5D"
      },
      "source": [
        "word_list = [w for w in wakachigaki(text_list).split()]"
      ],
      "execution_count": 10,
      "outputs": []
    },
    {
      "cell_type": "code",
      "metadata": {
        "id": "LoofUMcdSmQK",
        "outputId": "399f794d-a591-4730-9e74-6184e87a5d1a",
        "colab": {
          "base_uri": "https://localhost:8080/"
        }
      },
      "source": [
        "word_list[0:10]"
      ],
      "execution_count": 11,
      "outputs": [
        {
          "output_type": "execute_result",
          "data": {
            "text/plain": [
              "['ドグラ・マグラ', '夢野', '久作', 'テキスト', '中', 'に', '現れる', '記号', 'について', '：']"
            ]
          },
          "metadata": {
            "tags": []
          },
          "execution_count": 11
        }
      ]
    },
    {
      "cell_type": "markdown",
      "metadata": {
        "id": "0QcwfoxMawba"
      },
      "source": [
        "## マルコフ連鎖モデルの学習"
      ]
    },
    {
      "cell_type": "markdown",
      "metadata": {
        "id": "mSh9h9_0-glY"
      },
      "source": [
        "### 簡単な例で確認"
      ]
    },
    {
      "cell_type": "code",
      "metadata": {
        "id": "4V0FmOzDRlvD",
        "outputId": "7e2fe4ba-2530-4273-8b3a-293ac36b79b4",
        "colab": {
          "base_uri": "https://localhost:8080/"
        }
      },
      "source": [
        "test_text = ['私はからあげが好きだ。君はからあげを食べる。私はおやつが好きだ。']\n",
        "test_text = wakachigaki(test_text)\n",
        "test_text = test_text.replace('から あげ', 'からあげ')\n",
        "test_text = test_text.replace('お やつ', 'おやつ')\n",
        "\n",
        "test_word_list = [w for w in test_text.split()]\n",
        "test_word_list"
      ],
      "execution_count": 12,
      "outputs": [
        {
          "output_type": "execute_result",
          "data": {
            "text/plain": [
              "['私',\n",
              " 'は',\n",
              " 'からあげ',\n",
              " 'が',\n",
              " '好き',\n",
              " 'だ',\n",
              " '。',\n",
              " '君',\n",
              " 'は',\n",
              " 'からあげ',\n",
              " 'を',\n",
              " '食べる',\n",
              " '。',\n",
              " '私',\n",
              " 'は',\n",
              " 'おやつ',\n",
              " 'が',\n",
              " '好き',\n",
              " 'だ',\n",
              " '。']"
            ]
          },
          "metadata": {
            "tags": []
          },
          "execution_count": 12
        }
      ]
    },
    {
      "cell_type": "markdown",
      "metadata": {
        "id": "qrTGV4g6T8WN"
      },
      "source": [
        "一階のマルコフ連鎖モデル"
      ]
    },
    {
      "cell_type": "code",
      "metadata": {
        "id": "xgoy5cUE_xUh"
      },
      "source": [
        "def make_markov_model_1(word_list):\n",
        "  markov = {}\n",
        "  w1 = ''\n",
        "  for word in word_list:\n",
        "    if w1:\n",
        "      if w1 not in markov:\n",
        "        markov[w1] = []\n",
        "      markov[w1].append(word)\n",
        "    w1 = word\n",
        "  return markov  "
      ],
      "execution_count": 13,
      "outputs": []
    },
    {
      "cell_type": "code",
      "metadata": {
        "id": "fkVtNdprRDJ1"
      },
      "source": [
        "markov_model_test_1 = make_markov_model_1(test_word_list)"
      ],
      "execution_count": 14,
      "outputs": []
    },
    {
      "cell_type": "markdown",
      "metadata": {
        "id": "2dnFVc8uaEsG"
      },
      "source": [
        "学習したモデルの確認"
      ]
    },
    {
      "cell_type": "code",
      "metadata": {
        "id": "ORAmoaIeAML7"
      },
      "source": [
        "def check_model(model, check_numb=10):\n",
        "  count = 0\n",
        "  for key in model.keys():\n",
        "    if count >= 0:\n",
        "      print('key:', key)\n",
        "      print('value:', model[key])\n",
        "      print('------------------------')\n",
        "    count += 1\n",
        "    if count > check_numb:\n",
        "      break"
      ],
      "execution_count": 15,
      "outputs": []
    },
    {
      "cell_type": "code",
      "metadata": {
        "id": "rls9yTPgm0h8",
        "outputId": "3b3de627-8ec4-43e3-9793-248c8b23ae63",
        "colab": {
          "base_uri": "https://localhost:8080/"
        }
      },
      "source": [
        "check_model(markov_model_test_1, check_numb=20)"
      ],
      "execution_count": 16,
      "outputs": [
        {
          "output_type": "stream",
          "text": [
            "key: 私\n",
            "value: ['は', 'は']\n",
            "------------------------\n",
            "key: は\n",
            "value: ['からあげ', 'からあげ', 'おやつ']\n",
            "------------------------\n",
            "key: からあげ\n",
            "value: ['が', 'を']\n",
            "------------------------\n",
            "key: が\n",
            "value: ['好き', '好き']\n",
            "------------------------\n",
            "key: 好き\n",
            "value: ['だ', 'だ']\n",
            "------------------------\n",
            "key: だ\n",
            "value: ['。', '。']\n",
            "------------------------\n",
            "key: 。\n",
            "value: ['君', '私']\n",
            "------------------------\n",
            "key: 君\n",
            "value: ['は']\n",
            "------------------------\n",
            "key: を\n",
            "value: ['食べる']\n",
            "------------------------\n",
            "key: 食べる\n",
            "value: ['。']\n",
            "------------------------\n",
            "key: おやつ\n",
            "value: ['が']\n",
            "------------------------\n"
          ],
          "name": "stdout"
        }
      ]
    },
    {
      "cell_type": "code",
      "metadata": {
        "id": "H0AWYQaWSJlo",
        "outputId": "31e9d5ea-1c78-405b-b7b1-9ebf9507b019",
        "colab": {
          "base_uri": "https://localhost:8080/"
        }
      },
      "source": [
        "test_text = ['私はからあげが好きだ。君はからあげを食べる。私はおやつが好きだ。空が青い。']\n",
        "test_text = wakachigaki(test_text)\n",
        "test_text = test_text.replace('から あげ', 'からあげ')\n",
        "test_text = test_text.replace('お やつ', 'おやつ')\n",
        "\n",
        "test_word_list = [w for w in test_text.split()]\n",
        "test_word_list"
      ],
      "execution_count": 17,
      "outputs": [
        {
          "output_type": "execute_result",
          "data": {
            "text/plain": [
              "['私',\n",
              " 'は',\n",
              " 'からあげ',\n",
              " 'が',\n",
              " '好き',\n",
              " 'だ',\n",
              " '。',\n",
              " '君',\n",
              " 'は',\n",
              " 'からあげ',\n",
              " 'を',\n",
              " '食べる',\n",
              " '。',\n",
              " '私',\n",
              " 'は',\n",
              " 'おやつ',\n",
              " 'が',\n",
              " '好き',\n",
              " 'だ',\n",
              " '。',\n",
              " '空',\n",
              " 'が',\n",
              " '青い',\n",
              " '。']"
            ]
          },
          "metadata": {
            "tags": []
          },
          "execution_count": 17
        }
      ]
    },
    {
      "cell_type": "code",
      "metadata": {
        "id": "F8rYnnhdEiQ2"
      },
      "source": [
        "markov_model_test_1 = make_markov_model_1(test_word_list)"
      ],
      "execution_count": 18,
      "outputs": []
    },
    {
      "cell_type": "code",
      "metadata": {
        "id": "tktyLbT2dPxU",
        "outputId": "b88148e0-4794-4e7f-890b-78c83f21586b",
        "colab": {
          "base_uri": "https://localhost:8080/"
        }
      },
      "source": [
        "check_model(markov_model_test_1, check_numb=20)"
      ],
      "execution_count": 19,
      "outputs": [
        {
          "output_type": "stream",
          "text": [
            "key: 私\n",
            "value: ['は', 'は']\n",
            "------------------------\n",
            "key: は\n",
            "value: ['からあげ', 'からあげ', 'おやつ']\n",
            "------------------------\n",
            "key: からあげ\n",
            "value: ['が', 'を']\n",
            "------------------------\n",
            "key: が\n",
            "value: ['好き', '好き', '青い']\n",
            "------------------------\n",
            "key: 好き\n",
            "value: ['だ', 'だ']\n",
            "------------------------\n",
            "key: だ\n",
            "value: ['。', '。']\n",
            "------------------------\n",
            "key: 。\n",
            "value: ['君', '私', '空']\n",
            "------------------------\n",
            "key: 君\n",
            "value: ['は']\n",
            "------------------------\n",
            "key: を\n",
            "value: ['食べる']\n",
            "------------------------\n",
            "key: 食べる\n",
            "value: ['。']\n",
            "------------------------\n",
            "key: おやつ\n",
            "value: ['が']\n",
            "------------------------\n",
            "key: 空\n",
            "value: ['が']\n",
            "------------------------\n",
            "key: 青い\n",
            "value: ['。']\n",
            "------------------------\n"
          ],
          "name": "stdout"
        }
      ]
    },
    {
      "cell_type": "code",
      "metadata": {
        "id": "tBa5vwoOgT54"
      },
      "source": [
        "def make_markov_model_2(text_list):\n",
        "  markov = {}\n",
        "  w1 = ''\n",
        "  w2 = ''\n",
        "  for word in text_list:\n",
        "    if w1 and w2:\n",
        "      if (w1, w2) not in markov:\n",
        "        markov[(w1, w2)] = []\n",
        "      markov[(w1, w2)].append(word)\n",
        "    w1, w2 = w2, word\n",
        "  return markov  "
      ],
      "execution_count": 20,
      "outputs": []
    },
    {
      "cell_type": "code",
      "metadata": {
        "id": "hRhFbmOhyN_v"
      },
      "source": [
        "markov_model_test_2 = make_markov_model_2(test_word_list)"
      ],
      "execution_count": 21,
      "outputs": []
    },
    {
      "cell_type": "code",
      "metadata": {
        "id": "A5k9p6p2Be5D",
        "outputId": "dd68d0d9-dc49-4a67-dc28-cabf6e7f3939",
        "colab": {
          "base_uri": "https://localhost:8080/"
        }
      },
      "source": [
        "check_model(markov_model_test_2, check_numb=20)"
      ],
      "execution_count": 22,
      "outputs": [
        {
          "output_type": "stream",
          "text": [
            "key: ('私', 'は')\n",
            "value: ['からあげ', 'おやつ']\n",
            "------------------------\n",
            "key: ('は', 'からあげ')\n",
            "value: ['が', 'を']\n",
            "------------------------\n",
            "key: ('からあげ', 'が')\n",
            "value: ['好き']\n",
            "------------------------\n",
            "key: ('が', '好き')\n",
            "value: ['だ', 'だ']\n",
            "------------------------\n",
            "key: ('好き', 'だ')\n",
            "value: ['。', '。']\n",
            "------------------------\n",
            "key: ('だ', '。')\n",
            "value: ['君', '空']\n",
            "------------------------\n",
            "key: ('。', '君')\n",
            "value: ['は']\n",
            "------------------------\n",
            "key: ('君', 'は')\n",
            "value: ['からあげ']\n",
            "------------------------\n",
            "key: ('からあげ', 'を')\n",
            "value: ['食べる']\n",
            "------------------------\n",
            "key: ('を', '食べる')\n",
            "value: ['。']\n",
            "------------------------\n",
            "key: ('食べる', '。')\n",
            "value: ['私']\n",
            "------------------------\n",
            "key: ('。', '私')\n",
            "value: ['は']\n",
            "------------------------\n",
            "key: ('は', 'おやつ')\n",
            "value: ['が']\n",
            "------------------------\n",
            "key: ('おやつ', 'が')\n",
            "value: ['好き']\n",
            "------------------------\n",
            "key: ('。', '空')\n",
            "value: ['が']\n",
            "------------------------\n",
            "key: ('空', 'が')\n",
            "value: ['青い']\n",
            "------------------------\n",
            "key: ('が', '青い')\n",
            "value: ['。']\n",
            "------------------------\n"
          ],
          "name": "stdout"
        }
      ]
    },
    {
      "cell_type": "markdown",
      "metadata": {
        "id": "rDOHOu0_aVgt"
      },
      "source": [
        "### ドグラ・マグラを使ってモデルを生成"
      ]
    },
    {
      "cell_type": "code",
      "metadata": {
        "id": "c-b5EqrdCt3J"
      },
      "source": [
        "markov_model_2 = make_markov_model_2(word_list)"
      ],
      "execution_count": 23,
      "outputs": []
    },
    {
      "cell_type": "code",
      "metadata": {
        "id": "vWPGuok4eEgi",
        "outputId": "c4cdbee4-1472-46ed-e55c-b8b886f41c5f",
        "colab": {
          "base_uri": "https://localhost:8080/"
        }
      },
      "source": [
        "check_model(markov_model_2, check_numb=20)"
      ],
      "execution_count": 24,
      "outputs": [
        {
          "output_type": "stream",
          "text": [
            "key: ('ドグラ・マグラ', '夢野')\n",
            "value: ['久作']\n",
            "------------------------\n",
            "key: ('夢野', '久作')\n",
            "value: ['テキスト', '全集']\n",
            "------------------------\n",
            "key: ('久作', 'テキスト')\n",
            "value: ['中']\n",
            "------------------------\n",
            "key: ('テキスト', '中')\n",
            "value: ['に']\n",
            "------------------------\n",
            "key: ('中', 'に')\n",
            "value: ['現れる', 'ハッキリ', '、', '、', '走り込み', 'ヨボヨボ', '含ま', 'は', '納まっ', '凝固', 'ゴチャゴチャ', '落ち', '、', '追い込ん', '映っ', '突立', '、', '誘い込ん', '湧き', '落し', '並ん', 'は', '封じ込め', '、', '一つ', '、', 'は', '盛込ま', '、', '記述', '記述', '陳列', '含ま', '、', '潜伏', '引寄', 'タッタ', '含ま', 'は', 'は', '摘発', '、', '…', 'は', '落し', '胚胎', '尊', '。', 'は', 'も', '公', '並ぶ', 'は', '交', 'さまよう', '重なる', '。', '居る', 'トグロ', '立て', '立ち止まっ', '発見', '宿っ', '在る', '呼吸', '、', 'ホッ', '、', '、', '葬り', '立往生', '詰めかけ', 'は', '引っ', 'も', '平等', '往々', '、', '見知っ', 'は', '、', '潜在', '寝', '潜在', '包み込ん', '現われ', '含ま', '咲く', '辛', '刺', '落付', '蝨', 'サッと', '留め', '含ま', 'は', '並べ立て', '据え', 'は', '突込', 'は', 'は', '、', 'は', '居る', '居る', '立ち', 'ベタ', 'も', '、', '現われ', '、', 'は', '隠れ', 'は', '息', '盛ら', '、', '潜ん', '納まっ', '一', 'も', '潜ん', 'も', 'は', '絶世', '無理やり', 'ソッ', '納め', '納め', 'も', '恭しく', 'は', '抛', '挿入', '違い', '這入っ', 'は', 'は', 'お前', '或', '感じ', '進行', '感ぜ', '於', '於', '於', '属すれ', '於', 'も', '発見', 'も', 'も', '詳論', '、', '口', '包含', '分離', '発露', '行い', '、', '含ま', 'は', '若旦那', 'ダラダラ', '美', '、', '唯', '投じ', '、', 'も', 'は', 'は', '、', 'は', 'は', 'クルクル', 'は', '一', '私', 'ヤッコラサ', '仕掛け', '、', '逃げ込ん', '書い', '額', '…', 'いる', '自分', '含ま', '大きな', '満ち', 'は', '、', '持っ', '姿', 'ジッ', '人', '封じ込め', '、', '立ち上っ', '集中', '光っ', '、', '、', '、', 'は', '屈', '、', 'は', '含ま', '残っ', '、', 'わかる', '小さく', '、', '描き', '、', '取入れ', '怪しい', '、', 'は', 'は', '厳存', '在る', '、', '渦巻か', '又', 'は', '幾度', '、', '鬱積', '跼', '響き', '閃', '固まり合っ', '顕現', 'ノタ', '閃', '一', '描い', '、', '正木', 'は', '声', 'は', '誰', '這入っ', '浮き出し']\n",
            "------------------------\n",
            "key: ('に', '現れる')\n",
            "value: ['記号']\n",
            "------------------------\n",
            "key: ('現れる', '記号')\n",
            "value: ['について']\n",
            "------------------------\n",
            "key: ('記号', 'について')\n",
            "value: ['：']\n",
            "------------------------\n",
            "key: ('について', '：')\n",
            "value: ['ルビ']\n",
            "------------------------\n",
            "key: ('：', 'ルビ')\n",
            "value: ['（', 'の']\n",
            "------------------------\n",
            "key: ('ルビ', '（')\n",
            "value: ['例']\n",
            "------------------------\n",
            "key: ('（', '例')\n",
            "value: ['）', '）', '）', '）', '）']\n",
            "------------------------\n",
            "key: ('例', '）')\n",
            "value: ['蜜蜂', '大の字', 'ローマ', '五月', 'やう']\n",
            "------------------------\n",
            "key: ('）', '蜜蜂')\n",
            "value: ['みつば']\n",
            "------------------------\n",
            "key: ('蜜蜂', 'みつば')\n",
            "value: ['ち', 'ちの']\n",
            "------------------------\n",
            "key: ('みつば', 'ち')\n",
            "value: ['：']\n",
            "------------------------\n",
            "key: ('ち', '：')\n",
            "value: ['ルビ']\n",
            "------------------------\n",
            "key: ('ルビ', 'の')\n",
            "value: ['付く', '「']\n",
            "------------------------\n",
            "key: ('の', '付く')\n",
            "value: ['文字', '者']\n",
            "------------------------\n",
            "key: ('付く', '文字')\n",
            "value: ['列']\n",
            "------------------------\n",
            "key: ('文字', '列')\n",
            "value: ['の']\n",
            "------------------------\n"
          ],
          "name": "stdout"
        }
      ]
    },
    {
      "cell_type": "markdown",
      "metadata": {
        "id": "2TdJCnK2ptUb"
      },
      "source": [
        "## 文章の生成"
      ]
    },
    {
      "cell_type": "markdown",
      "metadata": {
        "id": "n_uneC1ZaM4L"
      },
      "source": [
        "### 2階のマルコフモデルで文章生成\n",
        "作成したモデルを使って文章を生成する"
      ]
    },
    {
      "cell_type": "code",
      "metadata": {
        "id": "LHnyPRixppxt"
      },
      "source": [
        "import random\n",
        "\n",
        "def generate_text_2(model, max_sentence):\n",
        "  count_sentence = 0\n",
        "  sentence = ''\n",
        "  w1, w2  = random.choice(list(model.keys()))\n",
        "  while count_sentence < max_sentence:\n",
        "    try:\n",
        "      tmp = random.choice(model[(w1, w2)])\n",
        "      sentence += tmp\n",
        "      if(tmp=='。'):\n",
        "        count_sentence += 1\n",
        "        sentence += '\\n'\n",
        "      w1, w2 = w2, tmp\n",
        "    except:\n",
        "      w1, w2  = random.choice(list(model.keys()))\n",
        "\n",
        "  return sentence"
      ],
      "execution_count": 25,
      "outputs": []
    },
    {
      "cell_type": "code",
      "metadata": {
        "id": "hOBPeWQ5afwT",
        "outputId": "f9adb961-b757-420c-971f-ad6cd3a6db33",
        "colab": {
          "base_uri": "https://localhost:8080/"
        }
      },
      "source": [
        "print(generate_text_2(markov_model_2, 10))"
      ],
      "execution_count": 26,
      "outputs": [
        {
          "output_type": "stream",
          "text": [
            "とを描きあらわした……そもそも世界歴史というものはタッタ一粒の中ですから、姪の浜の呉一郎のその方面の専門のスタイナハでもあるまいかと思うと、云ひも終らず一間余り走り退のくよと思案のあげくが。\n",
            "世界各地の博士は南側の窓に近づいて来る。\n",
            "殊に肝きもたまの小使室で見ましたが、まだシツケの掛かっております。\n",
            "「ヘイヘイ、今日の御家老職、雲井喜三郎、如何に深遠微妙な彩色や線の働らきつゝ人馬の傍で突然に発狂したままジッと我慢して説明すると別人では御座いませんでした。\n",
            "そうしてコンナに成長おおきくなった人の妾たちが、九大の狂人以上にこのような、又は八犬伝や水滸伝すいこでんに出て、何の役に立つのか』……」私は帽子を慌てて外套の老婆に変って来ました黒怪人物は御座いませぬ私が何が胎児を主人公とする精神科学応用の犯罪……という事実について今更めかしく疑いを抱いて調べてみると、吾々の大昔から初まった正木博士投身自殺を思い立った最初の宣言を高唱する。\n",
            "栄養のいい頭をチョットばかり竪たてに振った。\n",
            "その中うちから、絵巻物を焼いたと見えていたが二人の名刺を二本ともダラリと垂れましたかはっきり記憶おぼえてしまっているモノスゴイ暗示材料を、ここいらで、色々な事で、大きな椅子の横で畠を打っております私共姉妹きょうだいに生き写しなんていう事は無論私に接近し初めた……そのような気が付く。\n",
            "すなはち従ひ来れる馬士まごをたよりに、あとから吹き上げると、途中で理由も、既に化石となった姿は残っていた私の周囲まわりに立ち帰って行ったもので、何かしら考え込んでいない事を暗示するものを読んでいるだろう。\n",
            "夜が明けてみると、そのうつむいたのである。\n",
            "この絵巻物がさながら生きて生き甲斐ないこの病気の治療場の入口を開いた。\n",
            "\n"
          ],
          "name": "stdout"
        }
      ]
    },
    {
      "cell_type": "markdown",
      "metadata": {
        "id": "uop0GbZRxFed"
      },
      "source": [
        "### 2階から5階のマルコフ連鎖に変更"
      ]
    },
    {
      "cell_type": "code",
      "metadata": {
        "id": "eNtAn0Wezz0k"
      },
      "source": [
        "def make_markov_model_5(word_list):\n",
        "  markov = {}\n",
        "  w1 = ''\n",
        "  w2 = ''\n",
        "  w3 = ''\n",
        "  w4 = ''\n",
        "  w5 = ''\n",
        "  for word in word_list:\n",
        "    if w1 and w2 and w3 and w4 and w5:\n",
        "      if (w1, w2, w3, w4, w5) not in markov:\n",
        "        markov[(w1, w2, w3, w4, w5)] = []\n",
        "      markov[(w1, w2, w3, w4, w5)].append(word)\n",
        "    w1, w2, w3, w4, w5 = w2, w3, w4, w5, word\n",
        "  return markov"
      ],
      "execution_count": 27,
      "outputs": []
    },
    {
      "cell_type": "code",
      "metadata": {
        "id": "5QM72By-0FBw"
      },
      "source": [
        "markov_model_5 = make_markov_model_5(word_list)"
      ],
      "execution_count": 28,
      "outputs": []
    },
    {
      "cell_type": "code",
      "metadata": {
        "id": "a5HzO_LE0JKo",
        "outputId": "56fb2b1b-26a4-4988-d1a2-9e7e1c64f0d1",
        "colab": {
          "base_uri": "https://localhost:8080/"
        }
      },
      "source": [
        "check_model(markov_model_5, 20)"
      ],
      "execution_count": 29,
      "outputs": [
        {
          "output_type": "stream",
          "text": [
            "key: ('ドグラ・マグラ', '夢野', '久作', 'テキスト', '中')\n",
            "value: ['に']\n",
            "------------------------\n",
            "key: ('夢野', '久作', 'テキスト', '中', 'に')\n",
            "value: ['現れる']\n",
            "------------------------\n",
            "key: ('久作', 'テキスト', '中', 'に', '現れる')\n",
            "value: ['記号']\n",
            "------------------------\n",
            "key: ('テキスト', '中', 'に', '現れる', '記号')\n",
            "value: ['について']\n",
            "------------------------\n",
            "key: ('中', 'に', '現れる', '記号', 'について')\n",
            "value: ['：']\n",
            "------------------------\n",
            "key: ('に', '現れる', '記号', 'について', '：')\n",
            "value: ['ルビ']\n",
            "------------------------\n",
            "key: ('現れる', '記号', 'について', '：', 'ルビ')\n",
            "value: ['（']\n",
            "------------------------\n",
            "key: ('記号', 'について', '：', 'ルビ', '（')\n",
            "value: ['例']\n",
            "------------------------\n",
            "key: ('について', '：', 'ルビ', '（', '例')\n",
            "value: ['）']\n",
            "------------------------\n",
            "key: ('：', 'ルビ', '（', '例', '）')\n",
            "value: ['蜜蜂']\n",
            "------------------------\n",
            "key: ('ルビ', '（', '例', '）', '蜜蜂')\n",
            "value: ['みつば']\n",
            "------------------------\n",
            "key: ('（', '例', '）', '蜜蜂', 'みつば')\n",
            "value: ['ち']\n",
            "------------------------\n",
            "key: ('例', '）', '蜜蜂', 'みつば', 'ち')\n",
            "value: ['：']\n",
            "------------------------\n",
            "key: ('）', '蜜蜂', 'みつば', 'ち', '：')\n",
            "value: ['ルビ']\n",
            "------------------------\n",
            "key: ('蜜蜂', 'みつば', 'ち', '：', 'ルビ')\n",
            "value: ['の']\n",
            "------------------------\n",
            "key: ('みつば', 'ち', '：', 'ルビ', 'の')\n",
            "value: ['付く']\n",
            "------------------------\n",
            "key: ('ち', '：', 'ルビ', 'の', '付く')\n",
            "value: ['文字']\n",
            "------------------------\n",
            "key: ('：', 'ルビ', 'の', '付く', '文字')\n",
            "value: ['列']\n",
            "------------------------\n",
            "key: ('ルビ', 'の', '付く', '文字', '列')\n",
            "value: ['の']\n",
            "------------------------\n",
            "key: ('の', '付く', '文字', '列', 'の')\n",
            "value: ['始まり']\n",
            "------------------------\n",
            "key: ('付く', '文字', '列', 'の', '始まり')\n",
            "value: ['を']\n",
            "------------------------\n"
          ],
          "name": "stdout"
        }
      ]
    },
    {
      "cell_type": "code",
      "metadata": {
        "id": "lHLcnu4aE29H"
      },
      "source": [
        "import random\n",
        "\n",
        "def generate_text_5(model, max_sentence):\n",
        "  count_sentence = 0\n",
        "  sentence = ''\n",
        "  w1, w2, w3, w4, w5  = random.choice(list(model.keys()))\n",
        "  while count_sentence < max_sentence:\n",
        "    try:\n",
        "      tmp = random.choice(model[(w1, w2, w3, w4, w5)])\n",
        "      sentence += tmp\n",
        "      if(tmp=='。'):\n",
        "        count_sentence += 1\n",
        "        sentence += '\\n'\n",
        "      w1, w2, w3, w4, w5 = w2, w3, w4, w5, tmp\n",
        "    except:\n",
        "      w1, w2, w3, w4, w5  = random.choice(list(model.keys()))\n",
        "\n",
        "  return sentence"
      ],
      "execution_count": 30,
      "outputs": []
    },
    {
      "cell_type": "code",
      "metadata": {
        "id": "9hifO92ix1Qp",
        "outputId": "0ff173a8-8f02-4be0-adff-f06566060d52",
        "colab": {
          "base_uri": "https://localhost:8080/"
        }
      },
      "source": [
        "print(generate_text_5(markov_model_5, 10))"
      ],
      "execution_count": 31,
      "outputs": [
        {
          "output_type": "stream",
          "text": [
            "と、すぐに鍬を放り出して、近くの堤どてか草原くさばらの木蔭か軒下のきしたに行って弁当を使う。\n",
            "それから約半刻はんとき……と申しますのは、取りも直さず心理遺伝のあらわれに相違ないので、結局するところ、一切の摩訶まか不思議な大活躍を演ずる事に相成ましたので、つまり只今から御紹介致します空前絶後的な怪事件の真相と申しますのは唯一つ、貴方が昔の御記憶を回復されて、その附属病院の工事と共に着々進捗しんちょくしつつある「狂人解放治療場」を見た人々は、誰でも狂人の散歩場ぐらいにしか思っていないようであるが、眼を近づけて見るとそれは見えるか見えぬ位の細かい彩糸いろいとや金銀の糸で、極く薄い絹地の目を拾いつつ、一寸大の唐獅子の群れを一匹毎ごとに色を変えて隙間すきまなく刺した物で、貴いものである事が判明したので又々大騒ぎとなり、福岡地方裁判所から熱海判事、松岡書記、福岡警察署より津川警部、長谷川警察医外一名、又、大学側からは若林学部長を初め川路かわじ、安楽あんらく、太田、西久保の諸教授、田中書記等が現場に駆け付けたが、検案の結果同博士は、同海岸水族館裏手の石垣の上に帽子と葉巻きの吸いさしを置き、診察服を着けたまま手足を狂人用鉄製の手枷足枷てかせあしかせを以て緊縛し、折柄の満潮に身を投じたものらしく、死後約三時間を経過しているので救急の法も施ほどこしようがなかった。\n",
            "而しかして、この仮定を認むる時は、その性的衝動の危機の裡うちに眼覚めたる呉一郎が、かかる局面に立ちたる結果起したる、この種の頭脳特有の錯覚に非ざるなきやを疑い得る事。\n",
            "＝同＝妹千世子が家出の原因は刺繍と絵画の修業を目的とせるものに外ほかならざる旨、繰返して弁明せるも、前項の疑点と照合する時は、尚、別の意味をも含まれいるものの如し。\n",
            "すなわち千世子は、姉と共に同家に居りては、到底結婚の不可能なるべきを予感し、又は他国に於て、呉家の血統の男に生れたものならば、きっと正気を取り失いまして、親でも姉妹きょうだいでも、又は赤の他人でも、女でさえあれば殺すような事を致しますのだそうで、その由来ことわけを書いたものが、あのお寺にあるとか……ないとか云うておるようで御座いますが……」「僕が……精神病の治療……」「さようで……まことに奇妙な標題ですが……」私は思わず立竦たちすくんだ。\n",
            "そういう正木博士の態度の中には、私を押え付けて動かさない或る力が満ち満ちていた。\n",
            "……不意に大変な騒ぎが頭の上で初まって、眼も口も開けられなくなったので、思わず浮かしかけた尻を椅子の中に落ち付けて、首をギュッと縮めてしまったのであった。\n",
            "最初から自分一人でこの伝説に興味を持って、千世子を欺して、子供を生まして、絵巻物を提供させたのであった。\n",
            "気が遠くなって、今にもよろめき倒れそうになった。\n",
            "それは迚とてもタマラナイ程、変テコに可笑しい……頭の毛が一本一本にザワザワと走り出したように感じたが、終しまいにはその夢うつつさえ感じられなくなるまで恍惚として蹌踉よろめいて行った……ように思う……。\n",
            "\n"
          ],
          "name": "stdout"
        }
      ]
    },
    {
      "cell_type": "markdown",
      "metadata": {
        "id": "0CPvwjPyGe6Y"
      },
      "source": [
        "# 参考リンク\n",
        "- https://omedstu.jimdofree.com/2018/05/06/%E3%83%9E%E3%83%AB%E3%82%B3%E3%83%95%E9%80%A3%E9%8E%96%E3%81%AB%E3%82%88%E3%82%8B%E6%96%87%E6%9B%B8%E7%94%9F%E6%88%90/\n",
        "- https://qiita.com/k-jimon/items/f02fae75e853a9c02127"
      ]
    }
  ]
}
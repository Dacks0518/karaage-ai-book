{
  "nbformat": 4,
  "nbformat_minor": 0,
  "metadata": {
    "colab": {
      "name": "03_karaage_ai_book_generate_text_markov_chain.ipynb",
      "provenance": [],
      "collapsed_sections": [],
      "machine_shape": "hm",
      "include_colab_link": true
    },
    "kernelspec": {
      "name": "python3",
      "display_name": "Python 3"
    }
  },
  "cells": [
    {
      "cell_type": "markdown",
      "metadata": {
        "id": "view-in-github",
        "colab_type": "text"
      },
      "source": [
        "<a href=\"https://colab.research.google.com/github/karaage0703/karaage-ai-book/blob/master/ch03/03_karaage_ai_book_generate_text_markov_chain.ipynb\" target=\"_parent\"><img src=\"https://colab.research.google.com/assets/colab-badge.svg\" alt=\"Open In Colab\"/></a>"
      ]
    },
    {
      "cell_type": "markdown",
      "metadata": {
        "id": "qATBzdhLTpK-"
      },
      "source": [
        "# マルコフ連鎖を活用した文章生成"
      ]
    },
    {
      "cell_type": "markdown",
      "metadata": {
        "id": "vOHw6hhknT2L"
      },
      "source": [
        "## 教師データのダウンロード"
      ]
    },
    {
      "cell_type": "code",
      "metadata": {
        "id": "JDoMaTCxnV3f",
        "outputId": "bf51fa57-eae7-45a9-fb16-768fcadfb7d6",
        "colab": {
          "base_uri": "https://localhost:8080/",
          "height": 340
        }
      },
      "source": [
        "!wget https://github.com/aozorabunko/aozorabunko/raw/master/cards/000096/files/2093_ruby_28087.zip\n",
        "!unzip 2093_ruby_28087.zip"
      ],
      "execution_count": null,
      "outputs": [
        {
          "output_type": "stream",
          "text": [
            "--2020-05-06 00:20:57--  https://github.com/aozorabunko/aozorabunko/raw/master/cards/000096/files/2093_ruby_28087.zip\n",
            "Resolving github.com (github.com)... 140.82.114.4\n",
            "Connecting to github.com (github.com)|140.82.114.4|:443... connected.\n",
            "HTTP request sent, awaiting response... 302 Found\n",
            "Location: https://raw.githubusercontent.com/aozorabunko/aozorabunko/master/cards/000096/files/2093_ruby_28087.zip [following]\n",
            "--2020-05-06 00:20:57--  https://raw.githubusercontent.com/aozorabunko/aozorabunko/master/cards/000096/files/2093_ruby_28087.zip\n",
            "Resolving raw.githubusercontent.com (raw.githubusercontent.com)... 151.101.0.133, 151.101.64.133, 151.101.128.133, ...\n",
            "Connecting to raw.githubusercontent.com (raw.githubusercontent.com)|151.101.0.133|:443... connected.\n",
            "HTTP request sent, awaiting response... 200 OK\n",
            "Length: 421747 (412K) [application/zip]\n",
            "Saving to: ‘2093_ruby_28087.zip’\n",
            "\n",
            "2093_ruby_28087.zip 100%[===================>] 411.86K  --.-KB/s    in 0.06s   \n",
            "\n",
            "2020-05-06 00:20:57 (7.00 MB/s) - ‘2093_ruby_28087.zip’ saved [421747/421747]\n",
            "\n",
            "Archive:  2093_ruby_28087.zip\n",
            "Made with MacWinZipper™\n",
            "  inflating: dogura_magura.txt       \n"
          ],
          "name": "stdout"
        }
      ]
    },
    {
      "cell_type": "markdown",
      "metadata": {
        "id": "v1agck95_7FM"
      },
      "source": [
        "ファイルを読み込みます"
      ]
    },
    {
      "cell_type": "code",
      "metadata": {
        "id": "tsTD2K2v_XGa"
      },
      "source": [
        "text_list = []\n",
        "with open('dogura_magura.txt', encoding='shift_jis') as f:\n",
        "  text_list = f.readlines()"
      ],
      "execution_count": null,
      "outputs": []
    },
    {
      "cell_type": "code",
      "metadata": {
        "id": "O_qwBFEVCPFL",
        "outputId": "f6576af7-68f0-4eba-9e6b-54e00b3679fd",
        "colab": {
          "base_uri": "https://localhost:8080/",
          "height": 187
        }
      },
      "source": [
        "text_list[0:10]"
      ],
      "execution_count": null,
      "outputs": [
        {
          "output_type": "execute_result",
          "data": {
            "text/plain": [
              "['ドグラ・マグラ\\n',\n",
              " '夢野久作\\n',\n",
              " '\\n',\n",
              " '-------------------------------------------------------\\n',\n",
              " '【テキスト中に現れる記号について】\\n',\n",
              " '\\n',\n",
              " '《》：ルビ\\n',\n",
              " '（例）蜜蜂《みつばち》\\n',\n",
              " '\\n',\n",
              " '｜：ルビの付く文字列の始まりを特定する記号\\n']"
            ]
          },
          "metadata": {
            "tags": []
          },
          "execution_count": 3
        }
      ]
    },
    {
      "cell_type": "markdown",
      "metadata": {
        "id": "uroD0EYMcc4B"
      },
      "source": [
        "## データの前処理\n"
      ]
    },
    {
      "cell_type": "markdown",
      "metadata": {
        "id": "NKQXZrEWpUYH"
      },
      "source": [
        "形態素解析ライブラリの「janome」をインストール"
      ]
    },
    {
      "cell_type": "code",
      "metadata": {
        "id": "1QU7-GSM7_Pi",
        "outputId": "b1549624-8a74-4b39-8fbb-c3620589829e",
        "colab": {
          "base_uri": "https://localhost:8080/",
          "height": 122
        }
      },
      "source": [
        "!pip install janome"
      ],
      "execution_count": null,
      "outputs": [
        {
          "output_type": "stream",
          "text": [
            "Collecting janome\n",
            "\u001b[?25l  Downloading https://files.pythonhosted.org/packages/79/f0/bd7f90806132d7d9d642d418bdc3e870cfdff5947254ea3cab27480983a7/Janome-0.3.10-py2.py3-none-any.whl (21.5MB)\n",
            "\u001b[K     |████████████████████████████████| 21.5MB 1.4MB/s \n",
            "\u001b[?25hInstalling collected packages: janome\n",
            "Successfully installed janome-0.3.10\n"
          ],
          "name": "stdout"
        }
      ]
    },
    {
      "cell_type": "markdown",
      "metadata": {
        "id": "DibPLsKYek_Q"
      },
      "source": [
        "不要な文字の削除"
      ]
    },
    {
      "cell_type": "code",
      "metadata": {
        "id": "TWbCdtgKenF0"
      },
      "source": [
        "import re\n",
        "def normalize_text(text):\n",
        "    text = re.sub(r'》', '', text)\n",
        "    text = re.sub(r'※', '', text)\n",
        "    text = re.sub(r'《', '', text)\n",
        "    text = re.sub(r'［', '', text)\n",
        "    text = re.sub(r'＃', '', text)\n",
        "    text = re.sub(r'-', '', text)\n",
        "    text = re.sub(r'｜', '', text)\n",
        "    text = re.sub(r'］', '', text)\n",
        "    text = re.sub(r'［', '', text)\n",
        "    text = re.sub(r'【','', text)\n",
        "    text = re.sub(r'】','', text)\n",
        "    text = text.strip()\n",
        "    return text"
      ],
      "execution_count": null,
      "outputs": []
    },
    {
      "cell_type": "code",
      "metadata": {
        "id": "cpX78goue3kF"
      },
      "source": [
        "new_text_list = []\n",
        "for text in text_list:\n",
        "    text = normalize_text(text)\n",
        "    new_text_list.append(text)\n",
        "\n",
        "text_list = new_text_list"
      ],
      "execution_count": null,
      "outputs": []
    },
    {
      "cell_type": "code",
      "metadata": {
        "id": "YgDxMpGLfrK7",
        "outputId": "512492e9-0747-4419-e0a4-163831a65abc",
        "colab": {
          "base_uri": "https://localhost:8080/",
          "height": 187
        }
      },
      "source": [
        "text_list[0:10]"
      ],
      "execution_count": null,
      "outputs": [
        {
          "output_type": "execute_result",
          "data": {
            "text/plain": [
              "['ドグラ・マグラ',\n",
              " '夢野久作',\n",
              " '',\n",
              " '',\n",
              " 'テキスト中に現れる記号について',\n",
              " '',\n",
              " '：ルビ',\n",
              " '（例）蜜蜂みつばち',\n",
              " '',\n",
              " '：ルビの付く文字列の始まりを特定する記号']"
            ]
          },
          "metadata": {
            "tags": []
          },
          "execution_count": 7
        }
      ]
    },
    {
      "cell_type": "markdown",
      "metadata": {
        "id": "SBCrn9egDBPL"
      },
      "source": [
        "分かち書き"
      ]
    },
    {
      "cell_type": "code",
      "metadata": {
        "id": "zHLD1S6_PpPf"
      },
      "source": [
        "from janome.tokenizer import Tokenizer"
      ],
      "execution_count": null,
      "outputs": []
    },
    {
      "cell_type": "code",
      "metadata": {
        "id": "rQ-RdQgwPq0A"
      },
      "source": [
        "def wakachigaki(text_list):\n",
        "  t = Tokenizer()\n",
        "  words = []\n",
        "  for text in text_list:\n",
        "    tokens = t.tokenize(text)\n",
        "    for token in tokens:\n",
        "      pos = token.part_of_speech.split(',')[0]\n",
        "      words.append(token.surface)\n",
        "\n",
        "  text = ' '.join(words)\n",
        "  return text"
      ],
      "execution_count": null,
      "outputs": []
    },
    {
      "cell_type": "code",
      "metadata": {
        "id": "yDYyPQKISp5D"
      },
      "source": [
        "word_list = [w for w in wakachigaki(text_list).split()]"
      ],
      "execution_count": null,
      "outputs": []
    },
    {
      "cell_type": "code",
      "metadata": {
        "id": "LoofUMcdSmQK",
        "outputId": "ff7884d0-8bdd-40ca-e979-298774218cd2",
        "colab": {
          "base_uri": "https://localhost:8080/",
          "height": 34
        }
      },
      "source": [
        "word_list[0:9]"
      ],
      "execution_count": null,
      "outputs": [
        {
          "output_type": "execute_result",
          "data": {
            "text/plain": [
              "['ドグラ・マグラ', '夢野', '久作', 'テキスト', '中', 'に', '現れる', '記号', 'について', '：']"
            ]
          },
          "metadata": {
            "tags": []
          },
          "execution_count": 15
        }
      ]
    },
    {
      "cell_type": "markdown",
      "metadata": {
        "id": "0QcwfoxMawba"
      },
      "source": [
        "## マルコフ連鎖モデルの学習"
      ]
    },
    {
      "cell_type": "markdown",
      "metadata": {
        "id": "mSh9h9_0-glY"
      },
      "source": [
        "### 簡単な例で確認"
      ]
    },
    {
      "cell_type": "code",
      "metadata": {
        "id": "4V0FmOzDRlvD",
        "outputId": "48484eb3-392e-4927-a798-931df61e654f",
        "colab": {
          "base_uri": "https://localhost:8080/",
          "height": 357
        }
      },
      "source": [
        "test_text = ['私はからあげが好きだ。君はからあげを食べる。私はおやつが好きだ。']\n",
        "test_text = wakachigaki(test_text)\n",
        "test_text = test_text.replace('から あげ', 'からあげ')\n",
        "test_text = test_text.replace('お やつ', 'おやつ')\n",
        "\n",
        "test_word_list = [w for w in test_text.split()]\n",
        "test_word_list"
      ],
      "execution_count": null,
      "outputs": [
        {
          "output_type": "execute_result",
          "data": {
            "text/plain": [
              "['私',\n",
              " 'は',\n",
              " 'からあげ',\n",
              " 'が',\n",
              " '好き',\n",
              " 'だ',\n",
              " '。',\n",
              " '君',\n",
              " 'は',\n",
              " 'からあげ',\n",
              " 'を',\n",
              " '食べる',\n",
              " '。',\n",
              " '私',\n",
              " 'は',\n",
              " 'おやつ',\n",
              " 'が',\n",
              " '好き',\n",
              " 'だ',\n",
              " '。']"
            ]
          },
          "metadata": {
            "tags": []
          },
          "execution_count": 5
        }
      ]
    },
    {
      "cell_type": "markdown",
      "metadata": {
        "id": "qrTGV4g6T8WN"
      },
      "source": [
        "一階のマルコフ連鎖モデル"
      ]
    },
    {
      "cell_type": "code",
      "metadata": {
        "id": "xgoy5cUE_xUh"
      },
      "source": [
        "def make_markov_model_1(word_list):\n",
        "  markov = {}\n",
        "  w1 = ''\n",
        "  for word in word_list:\n",
        "    if w1:\n",
        "      if w1 not in markov:\n",
        "        markov[w1] = []\n",
        "      markov[w1].append(word)\n",
        "    w1 = word\n",
        "  return markov  "
      ],
      "execution_count": null,
      "outputs": []
    },
    {
      "cell_type": "code",
      "metadata": {
        "id": "fkVtNdprRDJ1"
      },
      "source": [
        "markov_model_test_1 = make_markov_model_1(test_word_list)"
      ],
      "execution_count": null,
      "outputs": []
    },
    {
      "cell_type": "markdown",
      "metadata": {
        "id": "2dnFVc8uaEsG"
      },
      "source": [
        "学習したモデルの確認"
      ]
    },
    {
      "cell_type": "code",
      "metadata": {
        "id": "ORAmoaIeAML7"
      },
      "source": [
        "def check_model(model, check_numb=10):\n",
        "  count = 0\n",
        "  for key in model.keys():\n",
        "    if count >= 0:\n",
        "      print('key:', key)\n",
        "      print('value:', model[key])\n",
        "      print('------------------------')\n",
        "    count += 1\n",
        "    if count > check_numb:\n",
        "      break"
      ],
      "execution_count": null,
      "outputs": []
    },
    {
      "cell_type": "code",
      "metadata": {
        "id": "rls9yTPgm0h8",
        "outputId": "cb92793b-ca27-41f4-99ae-f07f312a6e0c",
        "colab": {
          "base_uri": "https://localhost:8080/",
          "height": 578
        }
      },
      "source": [
        "check_model(markov_model_test_1, check_numb=20)"
      ],
      "execution_count": null,
      "outputs": [
        {
          "output_type": "stream",
          "text": [
            "key: 私\n",
            "value: ['は', 'は']\n",
            "------------------------\n",
            "key: は\n",
            "value: ['からあげ', 'からあげ', 'おやつ']\n",
            "------------------------\n",
            "key: からあげ\n",
            "value: ['が', 'を']\n",
            "------------------------\n",
            "key: が\n",
            "value: ['好き', '好き']\n",
            "------------------------\n",
            "key: 好き\n",
            "value: ['だ', 'だ']\n",
            "------------------------\n",
            "key: だ\n",
            "value: ['。', '。']\n",
            "------------------------\n",
            "key: 。\n",
            "value: ['君', '私']\n",
            "------------------------\n",
            "key: 君\n",
            "value: ['は']\n",
            "------------------------\n",
            "key: を\n",
            "value: ['食べる']\n",
            "------------------------\n",
            "key: 食べる\n",
            "value: ['。']\n",
            "------------------------\n",
            "key: おやつ\n",
            "value: ['が']\n",
            "------------------------\n"
          ],
          "name": "stdout"
        }
      ]
    },
    {
      "cell_type": "code",
      "metadata": {
        "id": "H0AWYQaWSJlo",
        "outputId": "73bd7ee9-d83b-4e1d-9bf3-6e5506babd74",
        "colab": {
          "base_uri": "https://localhost:8080/",
          "height": 425
        }
      },
      "source": [
        "test_text = ['私はからあげが好きだ。君はからあげを食べる。私はおやつが好きだ。空が青い。']\n",
        "test_text = wakachigaki(test_text)\n",
        "test_text = test_text.replace('から あげ', 'からあげ')\n",
        "test_text = test_text.replace('お やつ', 'おやつ')\n",
        "\n",
        "test_word_list = [w for w in test_text.split()]\n",
        "test_word_list"
      ],
      "execution_count": null,
      "outputs": [
        {
          "output_type": "execute_result",
          "data": {
            "text/plain": [
              "['私',\n",
              " 'は',\n",
              " 'からあげ',\n",
              " 'が',\n",
              " '好き',\n",
              " 'だ',\n",
              " '。',\n",
              " '君',\n",
              " 'は',\n",
              " 'からあげ',\n",
              " 'を',\n",
              " '食べる',\n",
              " '。',\n",
              " '私',\n",
              " 'は',\n",
              " 'おやつ',\n",
              " 'が',\n",
              " '好き',\n",
              " 'だ',\n",
              " '。',\n",
              " '空',\n",
              " 'が',\n",
              " '青い',\n",
              " '。']"
            ]
          },
          "metadata": {
            "tags": []
          },
          "execution_count": 27
        }
      ]
    },
    {
      "cell_type": "code",
      "metadata": {
        "id": "F8rYnnhdEiQ2"
      },
      "source": [
        "markov_model_test_1 = make_markov_model_1(test_word_list)"
      ],
      "execution_count": null,
      "outputs": []
    },
    {
      "cell_type": "code",
      "metadata": {
        "id": "tktyLbT2dPxU",
        "outputId": "d3ac904a-29eb-4a4b-9ce6-f5b991a1a8b3",
        "colab": {
          "base_uri": "https://localhost:8080/",
          "height": 680
        }
      },
      "source": [
        "check_model(markov_model_test_1, check_numb=20)"
      ],
      "execution_count": null,
      "outputs": [
        {
          "output_type": "stream",
          "text": [
            "key: 私\n",
            "value: ['は', 'は']\n",
            "------------------------\n",
            "key: は\n",
            "value: ['からあげ', 'からあげ', 'おやつ']\n",
            "------------------------\n",
            "key: からあげ\n",
            "value: ['が', 'を']\n",
            "------------------------\n",
            "key: が\n",
            "value: ['好き', '好き', '青い']\n",
            "------------------------\n",
            "key: 好き\n",
            "value: ['だ', 'だ']\n",
            "------------------------\n",
            "key: だ\n",
            "value: ['。', '。']\n",
            "------------------------\n",
            "key: 。\n",
            "value: ['君', '私', '空']\n",
            "------------------------\n",
            "key: 君\n",
            "value: ['は']\n",
            "------------------------\n",
            "key: を\n",
            "value: ['食べる']\n",
            "------------------------\n",
            "key: 食べる\n",
            "value: ['。']\n",
            "------------------------\n",
            "key: おやつ\n",
            "value: ['が']\n",
            "------------------------\n",
            "key: 空\n",
            "value: ['が']\n",
            "------------------------\n",
            "key: 青い\n",
            "value: ['。']\n",
            "------------------------\n"
          ],
          "name": "stdout"
        }
      ]
    },
    {
      "cell_type": "code",
      "metadata": {
        "id": "tBa5vwoOgT54"
      },
      "source": [
        "def make_markov_model_2(text_list):\n",
        "  markov = {}\n",
        "  w1 = ''\n",
        "  w2 = ''\n",
        "  for word in text_list:\n",
        "    if w1 and w2:\n",
        "      if (w1, w2) not in markov:\n",
        "        markov[(w1, w2)] = []\n",
        "      markov[(w1, w2)].append(word)\n",
        "    w1, w2 = w2, word\n",
        "  return markov  "
      ],
      "execution_count": null,
      "outputs": []
    },
    {
      "cell_type": "code",
      "metadata": {
        "id": "hRhFbmOhyN_v"
      },
      "source": [
        "markov_model_test_2 = make_markov_model_2(test_word_list)"
      ],
      "execution_count": null,
      "outputs": []
    },
    {
      "cell_type": "code",
      "metadata": {
        "id": "A5k9p6p2Be5D",
        "outputId": "a9a844df-154e-4a99-ba71-419f07ded87d",
        "colab": {
          "base_uri": "https://localhost:8080/",
          "height": 884
        }
      },
      "source": [
        "check_model(markov_model_test_2, check_numb=20)"
      ],
      "execution_count": null,
      "outputs": [
        {
          "output_type": "stream",
          "text": [
            "key: ('私', 'は')\n",
            "value: ['からあげ', 'おやつ']\n",
            "------------------------\n",
            "key: ('は', 'からあげ')\n",
            "value: ['が', 'を']\n",
            "------------------------\n",
            "key: ('からあげ', 'が')\n",
            "value: ['好き']\n",
            "------------------------\n",
            "key: ('が', '好き')\n",
            "value: ['だ', 'だ']\n",
            "------------------------\n",
            "key: ('好き', 'だ')\n",
            "value: ['。', '。']\n",
            "------------------------\n",
            "key: ('だ', '。')\n",
            "value: ['君', '空']\n",
            "------------------------\n",
            "key: ('。', '君')\n",
            "value: ['は']\n",
            "------------------------\n",
            "key: ('君', 'は')\n",
            "value: ['からあげ']\n",
            "------------------------\n",
            "key: ('からあげ', 'を')\n",
            "value: ['食べる']\n",
            "------------------------\n",
            "key: ('を', '食べる')\n",
            "value: ['。']\n",
            "------------------------\n",
            "key: ('食べる', '。')\n",
            "value: ['私']\n",
            "------------------------\n",
            "key: ('。', '私')\n",
            "value: ['は']\n",
            "------------------------\n",
            "key: ('は', 'おやつ')\n",
            "value: ['が']\n",
            "------------------------\n",
            "key: ('おやつ', 'が')\n",
            "value: ['好き']\n",
            "------------------------\n",
            "key: ('。', '空')\n",
            "value: ['が']\n",
            "------------------------\n",
            "key: ('空', 'が')\n",
            "value: ['青い']\n",
            "------------------------\n",
            "key: ('が', '青い')\n",
            "value: ['。']\n",
            "------------------------\n"
          ],
          "name": "stdout"
        }
      ]
    },
    {
      "cell_type": "markdown",
      "metadata": {
        "id": "rDOHOu0_aVgt"
      },
      "source": [
        "### ドグラ・マグラを使ってモデルを生成"
      ]
    },
    {
      "cell_type": "code",
      "metadata": {
        "id": "c-b5EqrdCt3J"
      },
      "source": [
        "markov_model_2 = make_markov_model_2(word_list)"
      ],
      "execution_count": null,
      "outputs": []
    },
    {
      "cell_type": "code",
      "metadata": {
        "id": "vWPGuok4eEgi",
        "outputId": "e8e51f59-dde5-49d0-cf72-abb535135f69",
        "colab": {
          "base_uri": "https://localhost:8080/",
          "height": 1000
        }
      },
      "source": [
        "check_model(markov_model_2, check_numb=20)"
      ],
      "execution_count": null,
      "outputs": [
        {
          "output_type": "stream",
          "text": [
            "('ドグラ・マグラ', '夢野')\n",
            "['久作']\n",
            "------------------------\n",
            "('夢野', '久作')\n",
            "['テキスト', '全集']\n",
            "------------------------\n",
            "('久作', 'テキスト')\n",
            "['中']\n",
            "------------------------\n",
            "('テキスト', '中')\n",
            "['に']\n",
            "------------------------\n",
            "('中', 'に')\n",
            "['現れる', 'ハッキリ', '、', '、', '走り込み', 'ヨボヨボ', '含ま', 'は', '納まっ', '凝固', 'ゴチャゴチャ', '落ち', '、', '追い込ん', '映っ', '突立', '、', '誘い込ん', '湧き', '落し', '並ん', 'は', '封じ込め', '、', '一つ', '、', 'は', '盛込ま', '、', '記述', '記述', '陳列', '含ま', '、', '潜伏', '引寄', 'タッタ', '含ま', 'は', 'は', '摘発', '、', '…', 'は', '落し', '胚胎', '尊', '。', 'は', 'も', '公', '並ぶ', 'は', '交', 'さまよう', '重なる', '。', '居る', 'トグロ', '立て', '立ち止まっ', '発見', '宿っ', '在る', '呼吸', '、', 'ホッ', '、', '、', '葬り', '立往生', '詰めかけ', 'は', '引っ', 'も', '平等', '往々', '、', '見知っ', 'は', '、', '潜在', '寝', '潜在', '包み込ん', '現われ', '含ま', '咲く', '辛', '刺', '落付', '蝨', 'サッと', '留め', '含ま', 'は', '並べ立て', '据え', 'は', '突込', 'は', 'は', '、', 'は', '居る', '居る', '立ち', 'ベタ', 'も', '、', '現われ', '、', 'は', '隠れ', 'は', '息', '盛ら', '、', '潜ん', '納まっ', '一', 'も', '潜ん', 'も', 'は', '絶世', '無理やり', 'ソッ', '納め', '納め', 'も', '恭しく', 'は', '抛', '挿入', '違い', '這入っ', 'は', 'は', 'お前', '或', '感じ', '進行', '感ぜ', '於', '於', '於', '属すれ', '於', 'も', '発見', 'も', 'も', '詳論', '、', '口', '包含', '分離', '発露', '行い', '、', '含ま', 'は', '若旦那', 'ダラダラ', '美', '、', '唯', '投じ', '、', 'も', 'は', 'は', '、', 'は', 'は', 'クルクル', 'は', '一', '私', 'ヤッコラサ', '仕掛け', '、', '逃げ込ん', '書い', '額', '…', 'いる', '自分', '含ま', '大きな', '満ち', 'は', '、', '持っ', '姿', 'ジッ', '人', '封じ込め', '、', '立ち上っ', '集中', '光っ', '、', '、', '、', 'は', '屈', '、', 'は', '含ま', '残っ', '、', 'わかる', '小さく', '、', '描き', '、', '取入れ', '怪しい', '、', 'は', 'は', '厳存', '在る', '、', '渦巻か', '又', 'は', '幾度', '、', '鬱積', '跼', '響き', '閃', '固まり合っ', '顕現', 'ノタ', '閃', '一', '描い', '、', '正木', 'は', '声', 'は', '誰', '這入っ', '浮き出し']\n",
            "------------------------\n",
            "('に', '現れる')\n",
            "['記号']\n",
            "------------------------\n",
            "('現れる', '記号')\n",
            "['について']\n",
            "------------------------\n",
            "('記号', 'について')\n",
            "['：']\n",
            "------------------------\n",
            "('について', '：')\n",
            "['ルビ']\n",
            "------------------------\n",
            "('：', 'ルビ')\n",
            "['（', 'の']\n",
            "------------------------\n",
            "('ルビ', '（')\n",
            "['例']\n",
            "------------------------\n",
            "('（', '例')\n",
            "['）', '）', '）', '）', '）']\n",
            "------------------------\n",
            "('例', '）')\n",
            "['蜜蜂', '大の字', 'ローマ', '五月', 'やう']\n",
            "------------------------\n",
            "('）', '蜜蜂')\n",
            "['みつば']\n",
            "------------------------\n",
            "('蜜蜂', 'みつば')\n",
            "['ち', 'ちの']\n",
            "------------------------\n",
            "('みつば', 'ち')\n",
            "['：']\n",
            "------------------------\n",
            "('ち', '：')\n",
            "['ルビ']\n",
            "------------------------\n",
            "('ルビ', 'の')\n",
            "['付く', '「']\n",
            "------------------------\n",
            "('の', '付く')\n",
            "['文字', '者']\n",
            "------------------------\n",
            "('付く', '文字')\n",
            "['列']\n",
            "------------------------\n",
            "('文字', '列')\n",
            "['の']\n",
            "------------------------\n"
          ],
          "name": "stdout"
        }
      ]
    },
    {
      "cell_type": "markdown",
      "metadata": {
        "id": "2TdJCnK2ptUb"
      },
      "source": [
        "## 文章の生成"
      ]
    },
    {
      "cell_type": "markdown",
      "metadata": {
        "id": "n_uneC1ZaM4L"
      },
      "source": [
        "### 2階のマルコフモデルで文章生成\n",
        "作成したモデルを使って文章を生成する"
      ]
    },
    {
      "cell_type": "code",
      "metadata": {
        "id": "LHnyPRixppxt"
      },
      "source": [
        "import random\n",
        "\n",
        "def generate_text_2(model, max_sentence):\n",
        "  count_sentence = 0\n",
        "  sentence = ''\n",
        "  w1, w2  = random.choice(list(model.keys()))\n",
        "  while count_sentence < max_sentence:\n",
        "    try:\n",
        "      tmp = random.choice(model[(w1, w2)])\n",
        "      sentence += tmp\n",
        "      if(tmp=='。'):\n",
        "        count_sentence += 1\n",
        "        sentence += '\\n'\n",
        "      w1, w2 = w2, tmp\n",
        "    except:\n",
        "      w1, w2  = random.choice(list(model.keys()))\n",
        "\n",
        "  return sentence"
      ],
      "execution_count": null,
      "outputs": []
    },
    {
      "cell_type": "code",
      "metadata": {
        "id": "hOBPeWQ5afwT",
        "outputId": "f353aaf9-8d26-4cc9-b3bc-d611dd832d2c",
        "colab": {
          "base_uri": "https://localhost:8080/",
          "height": 224
        }
      },
      "source": [
        "print(generate_text_2(markov_model_2, 10))"
      ],
      "execution_count": null,
      "outputs": [
        {
          "output_type": "stream",
          "text": [
            "処で今度は方針を変えて隙間すきまもなく私の家に潜り込ませたものである事が好きなのですが、ツイ今しがた失神しかけた時を見澄まして、私の神経中枢とも思えるので、流石さすがの斎藤博士と、法医学者ハ、仮令自身ニ行ワルル犯罪ノ種類モ亦また、本篇の隅々に聞いておれば直ぐに判る筈ですが……▼あ――ア。\n",
            "その上に在る。\n",
            "その間かんに場内の片隅だけ引歪ひきゆがめる事がありまして、次から次に襲われながら耳を傾けたまま、黒い制服制帽の、最後の一時間とを押しなべて皆、そうした大昔のマンマの『無常』といった風に、異常な事件を調査するに止とどまった。\n",
            "「…………」「………一口に日本と違うて。\n",
            "ザット一千年前の御城下、鳥飼とりかい村自宅に於て、マンモス、エレファス、ステゴドンなぞいうものが、私と肩を一つ二つしたまま突伏つっぷした。\n",
            "私は驚きの声が次第に静まっているところを見得る程度にまで高潮しているのであるが、この空前絶後の大群集であるにも似合わない小さな、弱々しい咳嗽せきが出た後の今日と相成りましたので、私が指物屋さしものやにで黄色くなった右手の取付とっつきの部屋で見ましても構わないとすれば、眼の前に来てみたいと考えられるのであるが、その祖父というのが習慣になって座り直した。\n",
            "そうして胎児の潜在意識の内容と、僕はカッと見開いて、お二人の性質を有しおるものに相違ないという事が出来る。\n",
            "同時に頭の小男で、その前に、寸分違たがわず正確に繰り返して云って聞かせているのでした。\n",
            "ただの一つ一つに重ねた心理状態に陥って行ける訳さ。\n",
            "殊ことにはならぬ内容が……ところで今日の正午のお太鼓がドレ位つき難にくいという西洋紙のようになったところを云うのかと思う。\n",
            "\n"
          ],
          "name": "stdout"
        }
      ]
    },
    {
      "cell_type": "markdown",
      "metadata": {
        "id": "uop0GbZRxFed"
      },
      "source": [
        "### 2階から5階のマルコフ連鎖に変更"
      ]
    },
    {
      "cell_type": "code",
      "metadata": {
        "id": "eNtAn0Wezz0k"
      },
      "source": [
        "def make_markov_model_5(word_list):\n",
        "  markov = {}\n",
        "  w1 = ''\n",
        "  w2 = ''\n",
        "  w3 = ''\n",
        "  w4 = ''\n",
        "  w5 = ''\n",
        "  for word in word_list:\n",
        "    if w1 and w2 and w3 and w4 and w5:\n",
        "      if (w1, w2, w3, w4, w5) not in markov:\n",
        "        markov[(w1, w2, w3, w4, w5)] = []\n",
        "      markov[(w1, w2, w3, w4, w5)].append(word)\n",
        "    w1, w2, w3, w4, w5 = w2, w3, w4, w5, word\n",
        "  return markov"
      ],
      "execution_count": null,
      "outputs": []
    },
    {
      "cell_type": "code",
      "metadata": {
        "id": "5QM72By-0FBw"
      },
      "source": [
        "markov_model_5 = make_markov_model_5(word_list)"
      ],
      "execution_count": null,
      "outputs": []
    },
    {
      "cell_type": "code",
      "metadata": {
        "id": "a5HzO_LE0JKo",
        "outputId": "46fe5df8-47a6-4d99-e752-72ace5ed790a",
        "colab": {
          "base_uri": "https://localhost:8080/",
          "height": 1000
        }
      },
      "source": [
        "check_model(markov_model_5, 20)"
      ],
      "execution_count": null,
      "outputs": [
        {
          "output_type": "stream",
          "text": [
            "('ドグラ・マグラ', '夢野', '久作', 'テキスト', '中')\n",
            "['に']\n",
            "------------------------\n",
            "('夢野', '久作', 'テキスト', '中', 'に')\n",
            "['現れる']\n",
            "------------------------\n",
            "('久作', 'テキスト', '中', 'に', '現れる')\n",
            "['記号']\n",
            "------------------------\n",
            "('テキスト', '中', 'に', '現れる', '記号')\n",
            "['について']\n",
            "------------------------\n",
            "('中', 'に', '現れる', '記号', 'について')\n",
            "['：']\n",
            "------------------------\n",
            "('に', '現れる', '記号', 'について', '：')\n",
            "['ルビ']\n",
            "------------------------\n",
            "('現れる', '記号', 'について', '：', 'ルビ')\n",
            "['（']\n",
            "------------------------\n",
            "('記号', 'について', '：', 'ルビ', '（')\n",
            "['例']\n",
            "------------------------\n",
            "('について', '：', 'ルビ', '（', '例')\n",
            "['）']\n",
            "------------------------\n",
            "('：', 'ルビ', '（', '例', '）')\n",
            "['蜜蜂']\n",
            "------------------------\n",
            "('ルビ', '（', '例', '）', '蜜蜂')\n",
            "['みつば']\n",
            "------------------------\n",
            "('（', '例', '）', '蜜蜂', 'みつば')\n",
            "['ち']\n",
            "------------------------\n",
            "('例', '）', '蜜蜂', 'みつば', 'ち')\n",
            "['：']\n",
            "------------------------\n",
            "('）', '蜜蜂', 'みつば', 'ち', '：')\n",
            "['ルビ']\n",
            "------------------------\n",
            "('蜜蜂', 'みつば', 'ち', '：', 'ルビ')\n",
            "['の']\n",
            "------------------------\n",
            "('みつば', 'ち', '：', 'ルビ', 'の')\n",
            "['付く']\n",
            "------------------------\n",
            "('ち', '：', 'ルビ', 'の', '付く')\n",
            "['文字']\n",
            "------------------------\n",
            "('：', 'ルビ', 'の', '付く', '文字')\n",
            "['列']\n",
            "------------------------\n",
            "('ルビ', 'の', '付く', '文字', '列')\n",
            "['の']\n",
            "------------------------\n",
            "('の', '付く', '文字', '列', 'の')\n",
            "['始まり']\n",
            "------------------------\n",
            "('付く', '文字', '列', 'の', '始まり')\n",
            "['を']\n",
            "------------------------\n"
          ],
          "name": "stdout"
        }
      ]
    },
    {
      "cell_type": "code",
      "metadata": {
        "id": "lHLcnu4aE29H"
      },
      "source": [
        "import random\n",
        "\n",
        "def generate_text_5(model, max_sentence):\n",
        "  count_sentence = 0\n",
        "  sentence = ''\n",
        "  w1, w2, w3, w4, w5  = random.choice(list(model.keys()))\n",
        "  while count_sentence < max_sentence:\n",
        "    try:\n",
        "      tmp = random.choice(model[(w1, w2, w3, w4, w5)])\n",
        "      sentence += tmp\n",
        "      if(tmp=='。'):\n",
        "        count_sentence += 1\n",
        "        sentence += '\\n'\n",
        "      w1, w2, w3, w4, w5 = w2, w3, w4, w5, tmp\n",
        "    except:\n",
        "      w1, w2, w3, w4, w5  = random.choice(list(model.keys()))\n",
        "\n",
        "  return sentence"
      ],
      "execution_count": null,
      "outputs": []
    },
    {
      "cell_type": "code",
      "metadata": {
        "id": "9hifO92ix1Qp",
        "outputId": "7599eaf3-b87c-4749-f2d6-ea42e1b1a8f1",
        "colab": {
          "base_uri": "https://localhost:8080/",
          "height": 224
        }
      },
      "source": [
        "print(generate_text_5(markov_model_5, 10))"
      ],
      "execution_count": null,
      "outputs": [
        {
          "output_type": "stream",
          "text": [
            "なのか知らん。\n",
            "それとも二人の博士が、チットモ怖くなくなった許ばかりでなく、妹にも久しく不品行ふしだらな事が御座いません事が、亡骸なきがらをお調べ下さいましてから、お判りになりましたとの事で、総長室の隣室で聞いていた事務員連は皆、同教授の発狂を疑いつつ顔を見合わせつつ震え上ったという。\n",
            "鼾声かんせい雷らいの如く「鼾声雷の如く」は５段階大きな文字気味悪い屍体「気味悪い屍体」は５段階大きな文字気味悪い屍体「気味悪い屍体」は５段階大きな文字同時に狂人の解放治療場に於ける呉一郎の女性絞殺行為後の夢中遊行症は殆ど右と同様のものなるべけれども、更に、ここに変態性慾的内容を有する夢中遊行を添加したる形跡の明らかなるものあるは特に珍重頑味すべきところなり。\n",
            "即ち呉一郎は、自己の血統に伝われる、独特固有の、変態性慾的「心理遺伝」の参考材料としても、その価値は形容の出来ない程に素晴らしいものがある。\n",
            "しかも、そいつに釣り込まれて、無我夢中に読み続けていたので……キチガイ地獄外道祭文「キチガイ地獄外道祭文」は５段階大きな文字ここから９字下げ――一名、狂人の暗黒時代――ここで字下げ終わり而しかして人間の肉体、及び精神と、細胞の霊能との関係が、斯様に明白となった以上「夢」なるものの本質に関する説明も亦また、極めて順調、正確に、精細をきわめつつ移りかわって行く。\n",
            "この点が、勝手気儘な自己陶酔に陥って行ける訳さ。\n",
            "気持ちの純な、頭のいい人間の変態心理は、ナカナカ見分けが付きにくいんだよ。\n",
            "……ところでその無言の所作が、開幕の皮切りに、大衆に投げかけた疑問というのは『私は誰の児こか』という質問であった。\n",
            "……その一箇月前の十月二十日だよ。\n",
            "いいかい。\n",
            "\n"
          ],
          "name": "stdout"
        }
      ]
    },
    {
      "cell_type": "markdown",
      "metadata": {
        "id": "0CPvwjPyGe6Y"
      },
      "source": [
        "# 参考リンク\n",
        "- https://omedstu.jimdofree.com/2018/05/06/%E3%83%9E%E3%83%AB%E3%82%B3%E3%83%95%E9%80%A3%E9%8E%96%E3%81%AB%E3%82%88%E3%82%8B%E6%96%87%E6%9B%B8%E7%94%9F%E6%88%90/\n",
        "- https://qiita.com/k-jimon/items/f02fae75e853a9c02127"
      ]
    }
  ]
}
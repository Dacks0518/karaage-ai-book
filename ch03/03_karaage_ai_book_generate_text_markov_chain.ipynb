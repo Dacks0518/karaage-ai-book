{
  "nbformat": 4,
  "nbformat_minor": 0,
  "metadata": {
    "colab": {
      "name": "03_karaage_ai_book_generate_text_markov_chain.ipynb",
      "provenance": [],
      "collapsed_sections": [],
      "machine_shape": "hm",
      "include_colab_link": true
    },
    "kernelspec": {
      "name": "python3",
      "display_name": "Python 3"
    }
  },
  "cells": [
    {
      "cell_type": "markdown",
      "metadata": {
        "id": "view-in-github",
        "colab_type": "text"
      },
      "source": [
        "<a href=\"https://colab.research.google.com/github/karaage0703/karaage-ai-book/blob/master/ch03/03_karaage_ai_book_generate_text_markov_chain.ipynb\" target=\"_parent\"><img src=\"https://colab.research.google.com/assets/colab-badge.svg\" alt=\"Open In Colab\"/></a>"
      ]
    },
    {
      "cell_type": "markdown",
      "metadata": {
        "id": "qATBzdhLTpK-"
      },
      "source": [
        "# マルコフ連鎖を活用した文章生成"
      ]
    },
    {
      "cell_type": "markdown",
      "metadata": {
        "id": "vOHw6hhknT2L"
      },
      "source": [
        "## 教師データのダウンロード"
      ]
    },
    {
      "cell_type": "code",
      "metadata": {
        "id": "JDoMaTCxnV3f",
        "outputId": "2c8a0a21-bd47-4719-df10-a03bccc0d507",
        "colab": {
          "base_uri": "https://localhost:8080/",
          "height": 340
        }
      },
      "source": [
        "!wget https://github.com/aozorabunko/aozorabunko/raw/master/cards/000096/files/2093_ruby_28087.zip\n",
        "!unzip 2093_ruby_28087.zip"
      ],
      "execution_count": 1,
      "outputs": [
        {
          "output_type": "stream",
          "text": [
            "--2020-10-20 17:38:10--  https://github.com/aozorabunko/aozorabunko/raw/master/cards/000096/files/2093_ruby_28087.zip\n",
            "Resolving github.com (github.com)... 52.69.186.44\n",
            "Connecting to github.com (github.com)|52.69.186.44|:443... connected.\n",
            "HTTP request sent, awaiting response... 302 Found\n",
            "Location: https://raw.githubusercontent.com/aozorabunko/aozorabunko/master/cards/000096/files/2093_ruby_28087.zip [following]\n",
            "--2020-10-20 17:38:11--  https://raw.githubusercontent.com/aozorabunko/aozorabunko/master/cards/000096/files/2093_ruby_28087.zip\n",
            "Resolving raw.githubusercontent.com (raw.githubusercontent.com)... 151.101.0.133, 151.101.64.133, 151.101.128.133, ...\n",
            "Connecting to raw.githubusercontent.com (raw.githubusercontent.com)|151.101.0.133|:443... connected.\n",
            "HTTP request sent, awaiting response... 200 OK\n",
            "Length: 421747 (412K) [application/zip]\n",
            "Saving to: ‘2093_ruby_28087.zip’\n",
            "\n",
            "2093_ruby_28087.zip 100%[===================>] 411.86K  --.-KB/s    in 0.07s   \n",
            "\n",
            "2020-10-20 17:38:11 (5.45 MB/s) - ‘2093_ruby_28087.zip’ saved [421747/421747]\n",
            "\n",
            "Archive:  2093_ruby_28087.zip\n",
            "Made with MacWinZipper™\n",
            "  inflating: dogura_magura.txt       \n"
          ],
          "name": "stdout"
        }
      ]
    },
    {
      "cell_type": "markdown",
      "metadata": {
        "id": "v1agck95_7FM"
      },
      "source": [
        "ファイルを読み込みます"
      ]
    },
    {
      "cell_type": "code",
      "metadata": {
        "id": "tsTD2K2v_XGa"
      },
      "source": [
        "text_list = []\n",
        "with open('dogura_magura.txt', encoding='shift_jis') as f:\n",
        "  text_list = f.readlines()"
      ],
      "execution_count": 2,
      "outputs": []
    },
    {
      "cell_type": "code",
      "metadata": {
        "id": "O_qwBFEVCPFL",
        "outputId": "20e8d95e-e4c2-48e9-cb0f-cd2c7549c46e",
        "colab": {
          "base_uri": "https://localhost:8080/",
          "height": 187
        }
      },
      "source": [
        "text_list[0:10]"
      ],
      "execution_count": 3,
      "outputs": [
        {
          "output_type": "execute_result",
          "data": {
            "text/plain": [
              "['ドグラ・マグラ\\n',\n",
              " '夢野久作\\n',\n",
              " '\\n',\n",
              " '-------------------------------------------------------\\n',\n",
              " '【テキスト中に現れる記号について】\\n',\n",
              " '\\n',\n",
              " '《》：ルビ\\n',\n",
              " '（例）蜜蜂《みつばち》\\n',\n",
              " '\\n',\n",
              " '｜：ルビの付く文字列の始まりを特定する記号\\n']"
            ]
          },
          "metadata": {
            "tags": []
          },
          "execution_count": 3
        }
      ]
    },
    {
      "cell_type": "markdown",
      "metadata": {
        "id": "uroD0EYMcc4B"
      },
      "source": [
        "## データの前処理\n"
      ]
    },
    {
      "cell_type": "markdown",
      "metadata": {
        "id": "DibPLsKYek_Q"
      },
      "source": [
        "不要な文字の削除"
      ]
    },
    {
      "cell_type": "code",
      "metadata": {
        "id": "IaMf4TBVF8Ep"
      },
      "source": [
        "import re\n",
        "def normalize_text(text):\n",
        "  text = re.sub(r'》', '', text)\n",
        "  text = re.sub(r'※', '', text)\n",
        "  text = re.sub(r'《', '', text)\n",
        "  text = re.sub(r'［', '', text)\n",
        "  text = re.sub(r'＃', '', text)\n",
        "  text = re.sub(r'-', '', text)\n",
        "  text = re.sub(r'｜', '', text)\n",
        "  text = re.sub(r'］', '', text)\n",
        "  text = re.sub(r'［', '', text)\n",
        "  text = re.sub(r'【','', text)\n",
        "  text = re.sub(r'】','', text)\n",
        "  text = text.strip()\n",
        "  return text"
      ],
      "execution_count": 5,
      "outputs": []
    },
    {
      "cell_type": "code",
      "metadata": {
        "id": "fmE9s8MkF_ye"
      },
      "source": [
        "new_text_list = []\n",
        "for text in text_list:\n",
        "  text = normalize_text(text)\n",
        "  new_text_list.append(text)\n",
        "\n",
        "text_list = new_text_list"
      ],
      "execution_count": 6,
      "outputs": []
    },
    {
      "cell_type": "code",
      "metadata": {
        "id": "YgDxMpGLfrK7",
        "outputId": "56e41ff0-5819-4d41-e722-9acc9b1cdf80",
        "colab": {
          "base_uri": "https://localhost:8080/",
          "height": 187
        }
      },
      "source": [
        "text_list[0:10]"
      ],
      "execution_count": 7,
      "outputs": [
        {
          "output_type": "execute_result",
          "data": {
            "text/plain": [
              "['ドグラ・マグラ',\n",
              " '夢野久作',\n",
              " '',\n",
              " '',\n",
              " 'テキスト中に現れる記号について',\n",
              " '',\n",
              " '：ルビ',\n",
              " '（例）蜜蜂みつばち',\n",
              " '',\n",
              " '：ルビの付く文字列の始まりを特定する記号']"
            ]
          },
          "metadata": {
            "tags": []
          },
          "execution_count": 7
        }
      ]
    },
    {
      "cell_type": "markdown",
      "metadata": {
        "id": "NKQXZrEWpUYH"
      },
      "source": [
        "形態素解析ライブラリの「janome」をインストール"
      ]
    },
    {
      "cell_type": "code",
      "metadata": {
        "id": "1QU7-GSM7_Pi",
        "outputId": "7a369310-9305-4c00-9d36-1e1de8f19265",
        "colab": {
          "base_uri": "https://localhost:8080/",
          "height": 102
        }
      },
      "source": [
        "!pip install janome"
      ],
      "execution_count": 4,
      "outputs": [
        {
          "output_type": "stream",
          "text": [
            "Collecting janome\n",
            "\u001b[?25l  Downloading https://files.pythonhosted.org/packages/a8/63/98858cbead27df7536c7e300c169da0999e9704d02220dc6700b804eeff0/Janome-0.4.1-py2.py3-none-any.whl (19.7MB)\n",
            "\u001b[K     |████████████████████████████████| 19.7MB 1.3MB/s \n",
            "\u001b[?25hInstalling collected packages: janome\n",
            "Successfully installed janome-0.4.1\n"
          ],
          "name": "stdout"
        }
      ]
    },
    {
      "cell_type": "markdown",
      "metadata": {
        "id": "SBCrn9egDBPL"
      },
      "source": [
        "分かち書き"
      ]
    },
    {
      "cell_type": "code",
      "metadata": {
        "id": "zHLD1S6_PpPf"
      },
      "source": [
        "from janome.tokenizer import Tokenizer"
      ],
      "execution_count": 8,
      "outputs": []
    },
    {
      "cell_type": "code",
      "metadata": {
        "id": "SR4uqvrhGhgc"
      },
      "source": [
        "def wakachigaki(text_list):\n",
        "  t = Tokenizer()\n",
        "  words = []\n",
        "  for text in text_list:\n",
        "    tokens = t.tokenize(text)\n",
        "    for token in tokens:\n",
        "      pos = token.part_of_speech.split(',')[0]\n",
        "      words.append(token.surface)\n",
        "\n",
        "  text = ' '.join(words)\n",
        "  return text"
      ],
      "execution_count": 9,
      "outputs": []
    },
    {
      "cell_type": "code",
      "metadata": {
        "id": "yDYyPQKISp5D"
      },
      "source": [
        "word_list = [w for w in wakachigaki(text_list).split()]"
      ],
      "execution_count": 10,
      "outputs": []
    },
    {
      "cell_type": "code",
      "metadata": {
        "id": "LoofUMcdSmQK",
        "outputId": "4534729a-562f-4221-c5da-f7d1cf1e242a",
        "colab": {
          "base_uri": "https://localhost:8080/",
          "height": 34
        }
      },
      "source": [
        "word_list[0:10]"
      ],
      "execution_count": 11,
      "outputs": [
        {
          "output_type": "execute_result",
          "data": {
            "text/plain": [
              "['ドグラ・マグラ', '夢野', '久作', 'テキスト', '中', 'に', '現れる', '記号', 'について', '：']"
            ]
          },
          "metadata": {
            "tags": []
          },
          "execution_count": 11
        }
      ]
    },
    {
      "cell_type": "markdown",
      "metadata": {
        "id": "0QcwfoxMawba"
      },
      "source": [
        "## マルコフ連鎖モデルの学習"
      ]
    },
    {
      "cell_type": "markdown",
      "metadata": {
        "id": "mSh9h9_0-glY"
      },
      "source": [
        "### 簡単な例で確認"
      ]
    },
    {
      "cell_type": "code",
      "metadata": {
        "id": "4V0FmOzDRlvD",
        "outputId": "954a9df6-b955-4191-d1e9-de5789d4ae2a",
        "colab": {
          "base_uri": "https://localhost:8080/",
          "height": 357
        }
      },
      "source": [
        "test_text = ['私はからあげが好きだ。君はからあげを食べる。私はおやつが好きだ。']\n",
        "test_text = wakachigaki(test_text)\n",
        "test_text = test_text.replace('から あげ', 'からあげ')\n",
        "test_text = test_text.replace('お やつ', 'おやつ')\n",
        "\n",
        "test_word_list = [w for w in test_text.split()]\n",
        "test_word_list"
      ],
      "execution_count": 12,
      "outputs": [
        {
          "output_type": "execute_result",
          "data": {
            "text/plain": [
              "['私',\n",
              " 'は',\n",
              " 'からあげ',\n",
              " 'が',\n",
              " '好き',\n",
              " 'だ',\n",
              " '。',\n",
              " '君',\n",
              " 'は',\n",
              " 'からあげ',\n",
              " 'を',\n",
              " '食べる',\n",
              " '。',\n",
              " '私',\n",
              " 'は',\n",
              " 'おやつ',\n",
              " 'が',\n",
              " '好き',\n",
              " 'だ',\n",
              " '。']"
            ]
          },
          "metadata": {
            "tags": []
          },
          "execution_count": 12
        }
      ]
    },
    {
      "cell_type": "markdown",
      "metadata": {
        "id": "qrTGV4g6T8WN"
      },
      "source": [
        "一階のマルコフ連鎖モデル"
      ]
    },
    {
      "cell_type": "code",
      "metadata": {
        "id": "xgoy5cUE_xUh"
      },
      "source": [
        "def make_markov_model_1(word_list):\n",
        "  markov = {}\n",
        "  w1 = ''\n",
        "  for word in word_list:\n",
        "    if w1:\n",
        "      if w1 not in markov:\n",
        "        markov[w1] = []\n",
        "      markov[w1].append(word)\n",
        "    w1 = word\n",
        "  return markov  "
      ],
      "execution_count": 13,
      "outputs": []
    },
    {
      "cell_type": "code",
      "metadata": {
        "id": "fkVtNdprRDJ1"
      },
      "source": [
        "markov_model_test_1 = make_markov_model_1(test_word_list)"
      ],
      "execution_count": 14,
      "outputs": []
    },
    {
      "cell_type": "markdown",
      "metadata": {
        "id": "2dnFVc8uaEsG"
      },
      "source": [
        "学習したモデルの確認"
      ]
    },
    {
      "cell_type": "code",
      "metadata": {
        "id": "ORAmoaIeAML7"
      },
      "source": [
        "def check_model(model, check_numb=10):\n",
        "  count = 0\n",
        "  for key in model.keys():\n",
        "    if count >= 0:\n",
        "      print('key:', key)\n",
        "      print('value:', model[key])\n",
        "      print('------------------------')\n",
        "    count += 1\n",
        "    if count > check_numb:\n",
        "      break"
      ],
      "execution_count": 16,
      "outputs": []
    },
    {
      "cell_type": "code",
      "metadata": {
        "id": "rls9yTPgm0h8",
        "outputId": "b226ba75-daa1-47ff-e927-429e837c0270",
        "colab": {
          "base_uri": "https://localhost:8080/",
          "height": 578
        }
      },
      "source": [
        "check_model(markov_model_test_1, check_numb=20)"
      ],
      "execution_count": 17,
      "outputs": [
        {
          "output_type": "stream",
          "text": [
            "key: 私\n",
            "value: ['は', 'は']\n",
            "------------------------\n",
            "key: は\n",
            "value: ['からあげ', 'からあげ', 'おやつ']\n",
            "------------------------\n",
            "key: からあげ\n",
            "value: ['が', 'を']\n",
            "------------------------\n",
            "key: が\n",
            "value: ['好き', '好き']\n",
            "------------------------\n",
            "key: 好き\n",
            "value: ['だ', 'だ']\n",
            "------------------------\n",
            "key: だ\n",
            "value: ['。', '。']\n",
            "------------------------\n",
            "key: 。\n",
            "value: ['君', '私']\n",
            "------------------------\n",
            "key: 君\n",
            "value: ['は']\n",
            "------------------------\n",
            "key: を\n",
            "value: ['食べる']\n",
            "------------------------\n",
            "key: 食べる\n",
            "value: ['。']\n",
            "------------------------\n",
            "key: おやつ\n",
            "value: ['が']\n",
            "------------------------\n"
          ],
          "name": "stdout"
        }
      ]
    },
    {
      "cell_type": "code",
      "metadata": {
        "id": "H0AWYQaWSJlo",
        "outputId": "fac8e428-3a2f-4834-b9bf-cd0a080fda60",
        "colab": {
          "base_uri": "https://localhost:8080/",
          "height": 425
        }
      },
      "source": [
        "test_text = ['私はからあげが好きだ。君はからあげを食べる。私はおやつが好きだ。空が青い。']\n",
        "test_text = wakachigaki(test_text)\n",
        "test_text = test_text.replace('から あげ', 'からあげ')\n",
        "test_text = test_text.replace('お やつ', 'おやつ')\n",
        "\n",
        "test_word_list = [w for w in test_text.split()]\n",
        "test_word_list"
      ],
      "execution_count": 18,
      "outputs": [
        {
          "output_type": "execute_result",
          "data": {
            "text/plain": [
              "['私',\n",
              " 'は',\n",
              " 'からあげ',\n",
              " 'が',\n",
              " '好き',\n",
              " 'だ',\n",
              " '。',\n",
              " '君',\n",
              " 'は',\n",
              " 'からあげ',\n",
              " 'を',\n",
              " '食べる',\n",
              " '。',\n",
              " '私',\n",
              " 'は',\n",
              " 'おやつ',\n",
              " 'が',\n",
              " '好き',\n",
              " 'だ',\n",
              " '。',\n",
              " '空',\n",
              " 'が',\n",
              " '青い',\n",
              " '。']"
            ]
          },
          "metadata": {
            "tags": []
          },
          "execution_count": 18
        }
      ]
    },
    {
      "cell_type": "code",
      "metadata": {
        "id": "F8rYnnhdEiQ2"
      },
      "source": [
        "markov_model_test_1 = make_markov_model_1(test_word_list)"
      ],
      "execution_count": 19,
      "outputs": []
    },
    {
      "cell_type": "code",
      "metadata": {
        "id": "tktyLbT2dPxU",
        "outputId": "56fe4d77-78a0-40d0-de68-74bb68e2fdbc",
        "colab": {
          "base_uri": "https://localhost:8080/",
          "height": 680
        }
      },
      "source": [
        "check_model(markov_model_test_1, check_numb=20)"
      ],
      "execution_count": 20,
      "outputs": [
        {
          "output_type": "stream",
          "text": [
            "key: 私\n",
            "value: ['は', 'は']\n",
            "------------------------\n",
            "key: は\n",
            "value: ['からあげ', 'からあげ', 'おやつ']\n",
            "------------------------\n",
            "key: からあげ\n",
            "value: ['が', 'を']\n",
            "------------------------\n",
            "key: が\n",
            "value: ['好き', '好き', '青い']\n",
            "------------------------\n",
            "key: 好き\n",
            "value: ['だ', 'だ']\n",
            "------------------------\n",
            "key: だ\n",
            "value: ['。', '。']\n",
            "------------------------\n",
            "key: 。\n",
            "value: ['君', '私', '空']\n",
            "------------------------\n",
            "key: 君\n",
            "value: ['は']\n",
            "------------------------\n",
            "key: を\n",
            "value: ['食べる']\n",
            "------------------------\n",
            "key: 食べる\n",
            "value: ['。']\n",
            "------------------------\n",
            "key: おやつ\n",
            "value: ['が']\n",
            "------------------------\n",
            "key: 空\n",
            "value: ['が']\n",
            "------------------------\n",
            "key: 青い\n",
            "value: ['。']\n",
            "------------------------\n"
          ],
          "name": "stdout"
        }
      ]
    },
    {
      "cell_type": "code",
      "metadata": {
        "id": "tBa5vwoOgT54"
      },
      "source": [
        "def make_markov_model_2(text_list):\n",
        "  markov = {}\n",
        "  w1 = ''\n",
        "  w2 = ''\n",
        "  for word in text_list:\n",
        "    if w1 and w2:\n",
        "      if (w1, w2) not in markov:\n",
        "        markov[(w1, w2)] = []\n",
        "      markov[(w1, w2)].append(word)\n",
        "    w1, w2 = w2, word\n",
        "  return markov  "
      ],
      "execution_count": 21,
      "outputs": []
    },
    {
      "cell_type": "code",
      "metadata": {
        "id": "hRhFbmOhyN_v"
      },
      "source": [
        "markov_model_test_2 = make_markov_model_2(test_word_list)"
      ],
      "execution_count": 22,
      "outputs": []
    },
    {
      "cell_type": "code",
      "metadata": {
        "id": "A5k9p6p2Be5D",
        "outputId": "573e0b6d-a9d4-4f66-b784-021d39d7ce03",
        "colab": {
          "base_uri": "https://localhost:8080/",
          "height": 884
        }
      },
      "source": [
        "check_model(markov_model_test_2, check_numb=20)"
      ],
      "execution_count": 23,
      "outputs": [
        {
          "output_type": "stream",
          "text": [
            "key: ('私', 'は')\n",
            "value: ['からあげ', 'おやつ']\n",
            "------------------------\n",
            "key: ('は', 'からあげ')\n",
            "value: ['が', 'を']\n",
            "------------------------\n",
            "key: ('からあげ', 'が')\n",
            "value: ['好き']\n",
            "------------------------\n",
            "key: ('が', '好き')\n",
            "value: ['だ', 'だ']\n",
            "------------------------\n",
            "key: ('好き', 'だ')\n",
            "value: ['。', '。']\n",
            "------------------------\n",
            "key: ('だ', '。')\n",
            "value: ['君', '空']\n",
            "------------------------\n",
            "key: ('。', '君')\n",
            "value: ['は']\n",
            "------------------------\n",
            "key: ('君', 'は')\n",
            "value: ['からあげ']\n",
            "------------------------\n",
            "key: ('からあげ', 'を')\n",
            "value: ['食べる']\n",
            "------------------------\n",
            "key: ('を', '食べる')\n",
            "value: ['。']\n",
            "------------------------\n",
            "key: ('食べる', '。')\n",
            "value: ['私']\n",
            "------------------------\n",
            "key: ('。', '私')\n",
            "value: ['は']\n",
            "------------------------\n",
            "key: ('は', 'おやつ')\n",
            "value: ['が']\n",
            "------------------------\n",
            "key: ('おやつ', 'が')\n",
            "value: ['好き']\n",
            "------------------------\n",
            "key: ('。', '空')\n",
            "value: ['が']\n",
            "------------------------\n",
            "key: ('空', 'が')\n",
            "value: ['青い']\n",
            "------------------------\n",
            "key: ('が', '青い')\n",
            "value: ['。']\n",
            "------------------------\n"
          ],
          "name": "stdout"
        }
      ]
    },
    {
      "cell_type": "markdown",
      "metadata": {
        "id": "rDOHOu0_aVgt"
      },
      "source": [
        "### ドグラ・マグラを使ってモデルを生成"
      ]
    },
    {
      "cell_type": "code",
      "metadata": {
        "id": "c-b5EqrdCt3J"
      },
      "source": [
        "markov_model_2 = make_markov_model_2(word_list)"
      ],
      "execution_count": 24,
      "outputs": []
    },
    {
      "cell_type": "code",
      "metadata": {
        "id": "vWPGuok4eEgi",
        "outputId": "2af64549-8125-4d7d-8459-950611e29dc0",
        "colab": {
          "base_uri": "https://localhost:8080/",
          "height": 1000
        }
      },
      "source": [
        "check_model(markov_model_2, check_numb=20)"
      ],
      "execution_count": 25,
      "outputs": [
        {
          "output_type": "stream",
          "text": [
            "key: ('ドグラ・マグラ', '夢野')\n",
            "value: ['久作']\n",
            "------------------------\n",
            "key: ('夢野', '久作')\n",
            "value: ['テキスト', '全集']\n",
            "------------------------\n",
            "key: ('久作', 'テキスト')\n",
            "value: ['中']\n",
            "------------------------\n",
            "key: ('テキスト', '中')\n",
            "value: ['に']\n",
            "------------------------\n",
            "key: ('中', 'に')\n",
            "value: ['現れる', 'ハッキリ', '、', '、', '走り込み', 'ヨボヨボ', '含ま', 'は', '納まっ', '凝固', 'ゴチャゴチャ', '落ち', '、', '追い込ん', '映っ', '突立', '、', '誘い込ん', '湧き', '落し', '並ん', 'は', '封じ込め', '、', '一つ', '、', 'は', '盛込ま', '、', '記述', '記述', '陳列', '含ま', '、', '潜伏', '引寄', 'タッタ', '含ま', 'は', 'は', '摘発', '、', '…', 'は', '落し', '胚胎', '尊', '。', 'は', 'も', '公', '並ぶ', 'は', '交', 'さまよう', '重なる', '。', '居る', 'トグロ', '立て', '立ち止まっ', '発見', '宿っ', '在る', '呼吸', '、', 'ホッ', '、', '、', '葬り', '立往生', '詰めかけ', 'は', '引っ', 'も', '平等', '往々', '、', '見知っ', 'は', '、', '潜在', '寝', '潜在', '包み込ん', '現われ', '含ま', '咲く', '辛', '刺', '落付', '蝨', 'サッと', '留め', '含ま', 'は', '並べ立て', '据え', 'は', '突込', 'は', 'は', '、', 'は', '居る', '居る', '立ち', 'ベタ', 'も', '、', '現われ', '、', 'は', '隠れ', 'は', '息', '盛ら', '、', '潜ん', '納まっ', '一', 'も', '潜ん', 'も', 'は', '絶世', '無理やり', 'ソッ', '納め', '納め', 'も', '恭しく', 'は', '抛', '挿入', '違い', '這入っ', 'は', 'は', 'お前', '或', '感じ', '進行', '感ぜ', '於', '於', '於', '属すれ', '於', 'も', '発見', 'も', 'も', '詳論', '、', '口', '包含', '分離', '発露', '行い', '、', '含ま', 'は', '若旦那', 'ダラダラ', '美', '、', '唯', '投じ', '、', 'も', 'は', 'は', '、', 'は', 'は', 'クルクル', 'は', '一', '私', 'ヤッコラサ', '仕掛け', '、', '逃げ込ん', '書い', '額', '…', 'いる', '自分', '含ま', '大きな', '満ち', 'は', '、', '持っ', '姿', 'ジッ', '人', '封じ込め', '、', '立ち上っ', '集中', '光っ', '、', '、', '、', 'は', '屈', '、', 'は', '含ま', '残っ', '、', 'わかる', '小さく', '、', '描き', '、', '取入れ', '怪しい', '、', 'は', 'は', '厳存', '在る', '、', '渦巻か', '又', 'は', '幾度', '、', '鬱積', '跼', '響き', '閃', '固まり合っ', '顕現', 'ノタ', '閃', '一', '描い', '、', '正木', 'は', '声', 'は', '誰', '這入っ', '浮き出し']\n",
            "------------------------\n",
            "key: ('に', '現れる')\n",
            "value: ['記号']\n",
            "------------------------\n",
            "key: ('現れる', '記号')\n",
            "value: ['について']\n",
            "------------------------\n",
            "key: ('記号', 'について')\n",
            "value: ['：']\n",
            "------------------------\n",
            "key: ('について', '：')\n",
            "value: ['ルビ']\n",
            "------------------------\n",
            "key: ('：', 'ルビ')\n",
            "value: ['（', 'の']\n",
            "------------------------\n",
            "key: ('ルビ', '（')\n",
            "value: ['例']\n",
            "------------------------\n",
            "key: ('（', '例')\n",
            "value: ['）', '）', '）', '）', '）']\n",
            "------------------------\n",
            "key: ('例', '）')\n",
            "value: ['蜜蜂', '大の字', 'ローマ', '五月', 'やう']\n",
            "------------------------\n",
            "key: ('）', '蜜蜂')\n",
            "value: ['みつば']\n",
            "------------------------\n",
            "key: ('蜜蜂', 'みつば')\n",
            "value: ['ち', 'ちの']\n",
            "------------------------\n",
            "key: ('みつば', 'ち')\n",
            "value: ['：']\n",
            "------------------------\n",
            "key: ('ち', '：')\n",
            "value: ['ルビ']\n",
            "------------------------\n",
            "key: ('ルビ', 'の')\n",
            "value: ['付く', '「']\n",
            "------------------------\n",
            "key: ('の', '付く')\n",
            "value: ['文字', '者']\n",
            "------------------------\n",
            "key: ('付く', '文字')\n",
            "value: ['列']\n",
            "------------------------\n",
            "key: ('文字', '列')\n",
            "value: ['の']\n",
            "------------------------\n"
          ],
          "name": "stdout"
        }
      ]
    },
    {
      "cell_type": "markdown",
      "metadata": {
        "id": "2TdJCnK2ptUb"
      },
      "source": [
        "## 文章の生成"
      ]
    },
    {
      "cell_type": "markdown",
      "metadata": {
        "id": "n_uneC1ZaM4L"
      },
      "source": [
        "### 2階のマルコフモデルで文章生成\n",
        "作成したモデルを使って文章を生成する"
      ]
    },
    {
      "cell_type": "code",
      "metadata": {
        "id": "LHnyPRixppxt"
      },
      "source": [
        "import random\n",
        "\n",
        "def generate_text_2(model, max_sentence):\n",
        "  count_sentence = 0\n",
        "  sentence = ''\n",
        "  w1, w2  = random.choice(list(model.keys()))\n",
        "  while count_sentence < max_sentence:\n",
        "    try:\n",
        "      tmp = random.choice(model[(w1, w2)])\n",
        "      sentence += tmp\n",
        "      if(tmp=='。'):\n",
        "        count_sentence += 1\n",
        "        sentence += '\\n'\n",
        "      w1, w2 = w2, tmp\n",
        "    except:\n",
        "      w1, w2  = random.choice(list(model.keys()))\n",
        "\n",
        "  return sentence"
      ],
      "execution_count": 26,
      "outputs": []
    },
    {
      "cell_type": "code",
      "metadata": {
        "id": "hOBPeWQ5afwT",
        "outputId": "a4b4fd21-6160-4dd0-fe61-e007471688e8",
        "colab": {
          "base_uri": "https://localhost:8080/",
          "height": 224
        }
      },
      "source": [
        "print(generate_text_2(markov_model_2, 10))"
      ],
      "execution_count": 27,
      "outputs": [
        {
          "output_type": "stream",
          "text": [
            "大変だ。\n",
            "彼奴きゃつの使う手は桑名くわなの何とかいう学者があっても宜しい位であるが、こんなに違って来るからね……弱い者苛いじめ付けられたり、首と称せらるる怪談なり。\n",
            "而しかし、血に染まった鍬を下したる事実に二重人格的夢遊して部屋の隅に、吾輩の学説……その異様なので、青いメリンスの風呂敷を一刹那せつな……」「ヘヘヘイ。\n",
            "先生は、今日までの気疲れが一時に照せば何であろう事業……そんなような緋縮緬ひぢりめんの湯沸器シンメルブッシュで御座いましょう。\n",
            "又とほかに在りと雖いえども、その祭文歌の中に這入った。\n",
            "思いますれどここらはまだ御不審なさるであろう、大卓子テーブルの端を押え付けている事実で、なおも悠々と落ち散って行って、その血統に絡み付いて、玄怪ニシテ捕捉シ難キノミ。\n",
            "何か云うておられるようなもの）――――ンンンン……占めた。\n",
            "前に述べた狐憑きなどの場合をいうとコンナ風に、両側に二つ並んでいるのでありながら、アノ通り夜と昼の日附を御覧になったので、私の横ッ面つらを突込んで眠り………事が……その女がい病院の診断は、普通の夢を見たる時、私はそれから徐おもむろに正木博士の心理の奥底の深い魅力をもってこの暗い、重苦しい水の如く渦巻き起って来る。\n",
            "スワ又一大事と身も世もあらばこそだ。\n",
            "無学文盲の農夫が発病後の夢中遊行中には学校の図書館、青空文庫作成ファイル：このファイル中で活躍して来た。\n",
            "\n"
          ],
          "name": "stdout"
        }
      ]
    },
    {
      "cell_type": "markdown",
      "metadata": {
        "id": "uop0GbZRxFed"
      },
      "source": [
        "### 2階から5階のマルコフ連鎖に変更"
      ]
    },
    {
      "cell_type": "code",
      "metadata": {
        "id": "eNtAn0Wezz0k"
      },
      "source": [
        "def make_markov_model_5(word_list):\n",
        "  markov = {}\n",
        "  w1 = ''\n",
        "  w2 = ''\n",
        "  w3 = ''\n",
        "  w4 = ''\n",
        "  w5 = ''\n",
        "  for word in word_list:\n",
        "    if w1 and w2 and w3 and w4 and w5:\n",
        "      if (w1, w2, w3, w4, w5) not in markov:\n",
        "        markov[(w1, w2, w3, w4, w5)] = []\n",
        "      markov[(w1, w2, w3, w4, w5)].append(word)\n",
        "    w1, w2, w3, w4, w5 = w2, w3, w4, w5, word\n",
        "  return markov"
      ],
      "execution_count": 28,
      "outputs": []
    },
    {
      "cell_type": "code",
      "metadata": {
        "id": "5QM72By-0FBw"
      },
      "source": [
        "markov_model_5 = make_markov_model_5(word_list)"
      ],
      "execution_count": 29,
      "outputs": []
    },
    {
      "cell_type": "code",
      "metadata": {
        "id": "a5HzO_LE0JKo",
        "outputId": "a5aa30f4-4f4a-40f9-fb66-3a5310233048",
        "colab": {
          "base_uri": "https://localhost:8080/",
          "height": 1000
        }
      },
      "source": [
        "check_model(markov_model_5, 20)"
      ],
      "execution_count": 30,
      "outputs": [
        {
          "output_type": "stream",
          "text": [
            "key: ('ドグラ・マグラ', '夢野', '久作', 'テキスト', '中')\n",
            "value: ['に']\n",
            "------------------------\n",
            "key: ('夢野', '久作', 'テキスト', '中', 'に')\n",
            "value: ['現れる']\n",
            "------------------------\n",
            "key: ('久作', 'テキスト', '中', 'に', '現れる')\n",
            "value: ['記号']\n",
            "------------------------\n",
            "key: ('テキスト', '中', 'に', '現れる', '記号')\n",
            "value: ['について']\n",
            "------------------------\n",
            "key: ('中', 'に', '現れる', '記号', 'について')\n",
            "value: ['：']\n",
            "------------------------\n",
            "key: ('に', '現れる', '記号', 'について', '：')\n",
            "value: ['ルビ']\n",
            "------------------------\n",
            "key: ('現れる', '記号', 'について', '：', 'ルビ')\n",
            "value: ['（']\n",
            "------------------------\n",
            "key: ('記号', 'について', '：', 'ルビ', '（')\n",
            "value: ['例']\n",
            "------------------------\n",
            "key: ('について', '：', 'ルビ', '（', '例')\n",
            "value: ['）']\n",
            "------------------------\n",
            "key: ('：', 'ルビ', '（', '例', '）')\n",
            "value: ['蜜蜂']\n",
            "------------------------\n",
            "key: ('ルビ', '（', '例', '）', '蜜蜂')\n",
            "value: ['みつば']\n",
            "------------------------\n",
            "key: ('（', '例', '）', '蜜蜂', 'みつば')\n",
            "value: ['ち']\n",
            "------------------------\n",
            "key: ('例', '）', '蜜蜂', 'みつば', 'ち')\n",
            "value: ['：']\n",
            "------------------------\n",
            "key: ('）', '蜜蜂', 'みつば', 'ち', '：')\n",
            "value: ['ルビ']\n",
            "------------------------\n",
            "key: ('蜜蜂', 'みつば', 'ち', '：', 'ルビ')\n",
            "value: ['の']\n",
            "------------------------\n",
            "key: ('みつば', 'ち', '：', 'ルビ', 'の')\n",
            "value: ['付く']\n",
            "------------------------\n",
            "key: ('ち', '：', 'ルビ', 'の', '付く')\n",
            "value: ['文字']\n",
            "------------------------\n",
            "key: ('：', 'ルビ', 'の', '付く', '文字')\n",
            "value: ['列']\n",
            "------------------------\n",
            "key: ('ルビ', 'の', '付く', '文字', '列')\n",
            "value: ['の']\n",
            "------------------------\n",
            "key: ('の', '付く', '文字', '列', 'の')\n",
            "value: ['始まり']\n",
            "------------------------\n",
            "key: ('付く', '文字', '列', 'の', '始まり')\n",
            "value: ['を']\n",
            "------------------------\n"
          ],
          "name": "stdout"
        }
      ]
    },
    {
      "cell_type": "code",
      "metadata": {
        "id": "lHLcnu4aE29H"
      },
      "source": [
        "import random\n",
        "\n",
        "def generate_text_5(model, max_sentence):\n",
        "  count_sentence = 0\n",
        "  sentence = ''\n",
        "  w1, w2, w3, w4, w5  = random.choice(list(model.keys()))\n",
        "  while count_sentence < max_sentence:\n",
        "    try:\n",
        "      tmp = random.choice(model[(w1, w2, w3, w4, w5)])\n",
        "      sentence += tmp\n",
        "      if(tmp=='。'):\n",
        "        count_sentence += 1\n",
        "        sentence += '\\n'\n",
        "      w1, w2, w3, w4, w5 = w2, w3, w4, w5, tmp\n",
        "    except:\n",
        "      w1, w2, w3, w4, w5  = random.choice(list(model.keys()))\n",
        "\n",
        "  return sentence"
      ],
      "execution_count": 31,
      "outputs": []
    },
    {
      "cell_type": "code",
      "metadata": {
        "id": "9hifO92ix1Qp",
        "outputId": "e6a012a4-b018-446a-8f51-176520989860",
        "colab": {
          "base_uri": "https://localhost:8080/",
          "height": 224
        }
      },
      "source": [
        "print(generate_text_5(markov_model_5, 10))"
      ],
      "execution_count": 32,
      "outputs": [
        {
          "output_type": "stream",
          "text": [
            "なって行った。\n",
            "「……お兄さまお兄さま……お兄さま……おにいさま……どうぞ……ね……」それは矢張やはり身体に釣り合わない、女みたような声で申しますと、唇をギリギリと噛んで、両手を握り固めてブルブルと慄ふるわして、眼を逆様さかさまに飛降りて自殺した患者の亀裂した頭蓋骨――――女房に擬して愛撫した枕と毛布製の人形――――手品を使うと称して、嚥下のみくだした真鍮煙管しんちゅうきせる――――素手すでで引裂いた錻力板ブリキいた――――女患者が捻じ曲げた檻房の鉄柵――ここで字下げ終わり「……アブナイッ……」「馬鹿ッ……」「……ハア……焚き殺すのがその頃の治療法だったのですね」「ところがこの淫仙先生はチットモ驚かない。\n",
            "今度は方針を変えて婦女子の新葬を求め、夜陰に乗じて墓を発あばき、屍体を引きずり出して山の中に持って行こうとした。\n",
            "……が……若林博士は、そうした私の態度を見守っていた。\n",
            "がやがて傍近く歩み寄って来て、鍬を振り上げた右の肩をポンとたたいた。\n",
            "呉一郎はそのまま、矢張りマジマジとした眼付きで正木博士の顔を、夢のように淡い言葉が、切れ切れに洩れ出した。\n",
            "「……ところで、貴方あなたをこの部屋にお伴いたしました目的と申しますのは、要するにこの少年の鼻の穴は、曲りが少のう御座いますので、器械で覗きますと一直線に奥までわかる……お笑いになっては困ります。\n",
            "落語では御座いませんか。\n",
            "これは恐らくこの博士が、自身に何回となく変相をした経験があるせいでは御座いますまいか。\n",
            "しかし若林博士の手腕が、如何に卓抜恐るべきものがあるかという事実の大要が理解されるであろうことを、吾輩は今一度、少女の寝顔を振り返った。\n",
            "\n"
          ],
          "name": "stdout"
        }
      ]
    },
    {
      "cell_type": "markdown",
      "metadata": {
        "id": "0CPvwjPyGe6Y"
      },
      "source": [
        "# 参考リンク\n",
        "- https://omedstu.jimdofree.com/2018/05/06/%E3%83%9E%E3%83%AB%E3%82%B3%E3%83%95%E9%80%A3%E9%8E%96%E3%81%AB%E3%82%88%E3%82%8B%E6%96%87%E6%9B%B8%E7%94%9F%E6%88%90/\n",
        "- https://qiita.com/k-jimon/items/f02fae75e853a9c02127"
      ]
    }
  ]
}
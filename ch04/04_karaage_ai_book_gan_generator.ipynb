{
  "nbformat": 4,
  "nbformat_minor": 0,
  "metadata": {
    "colab": {
      "name": "04_karaage_ai_book_gan_generator.ipynb",
      "provenance": [],
      "collapsed_sections": [],
      "include_colab_link": true
    },
    "kernelspec": {
      "name": "python3",
      "display_name": "Python 3"
    },
    "accelerator": "GPU"
  },
  "cells": [
    {
      "cell_type": "markdown",
      "metadata": {
        "id": "view-in-github",
        "colab_type": "text"
      },
      "source": [
        "<a href=\"https://colab.research.google.com/github/karaage0703/karaage-ai-book/blob/master/ch04/04_karaage_ai_book_gan_generator.ipynb\" target=\"_parent\"><img src=\"https://colab.research.google.com/assets/colab-badge.svg\" alt=\"Open In Colab\"/></a>"
      ]
    },
    {
      "cell_type": "markdown",
      "metadata": {
        "id": "KzekNUP2QIsV"
      },
      "source": [
        "# 学習させたモデルを使って手の画像を生成"
      ]
    },
    {
      "cell_type": "markdown",
      "metadata": {
        "id": "4YfmETKeUROg"
      },
      "source": [
        "必要なライブラリのインポート"
      ]
    },
    {
      "cell_type": "code",
      "metadata": {
        "id": "khepSlQsUNTH"
      },
      "source": [
        "import numpy as np\n",
        "from keras.models import load_model\n",
        "from PIL import Image"
      ],
      "execution_count": 1,
      "outputs": []
    },
    {
      "cell_type": "markdown",
      "metadata": {
        "id": "I4n8cEhKcE9w"
      },
      "source": [
        "Google Driveと連携してモデルをGoogle Colab上にコピー"
      ]
    },
    {
      "cell_type": "code",
      "metadata": {
        "id": "_3OJpMrhb94c",
        "outputId": "29bb2e4e-84bd-4a6f-beed-2fc9cba862ad",
        "colab": {
          "base_uri": "https://localhost:8080/",
          "height": 34
        }
      },
      "source": [
        "from google.colab import drive\n",
        "drive.mount('/content/drive')"
      ],
      "execution_count": 2,
      "outputs": [
        {
          "output_type": "stream",
          "text": [
            "Mounted at /content/drive\n"
          ],
          "name": "stdout"
        }
      ]
    },
    {
      "cell_type": "code",
      "metadata": {
        "id": "IJYn9gPucMSx"
      },
      "source": [
        "!cp '/content/drive/My Drive/gan_model.h5' ./"
      ],
      "execution_count": 3,
      "outputs": []
    },
    {
      "cell_type": "markdown",
      "metadata": {
        "id": "uZdL63hYUUZs"
      },
      "source": [
        "モデルを読み込みます。"
      ]
    },
    {
      "cell_type": "code",
      "metadata": {
        "id": "6OLMseCXUT10",
        "outputId": "a3ef46f2-566e-4412-cc5c-d7abf3570490",
        "colab": {
          "base_uri": "https://localhost:8080/",
          "height": 578
        }
      },
      "source": [
        "generator_model = load_model('gan_model.h5')\n",
        "generator_model.summary()"
      ],
      "execution_count": 4,
      "outputs": [
        {
          "output_type": "stream",
          "text": [
            "WARNING:tensorflow:No training configuration found in the save file, so the model was *not* compiled. Compile it manually.\n",
            "Model: \"sequential_2\"\n",
            "_________________________________________________________________\n",
            "Layer (type)                 Output Shape              Param #   \n",
            "=================================================================\n",
            "dense_3 (Dense)              (None, 1024)              103424    \n",
            "_________________________________________________________________\n",
            "activation_5 (Activation)    (None, 1024)              0         \n",
            "_________________________________________________________________\n",
            "dense_4 (Dense)              (None, 32768)             33587200  \n",
            "_________________________________________________________________\n",
            "batch_normalization_1 (Batch (None, 32768)             131072    \n",
            "_________________________________________________________________\n",
            "activation_6 (Activation)    (None, 32768)             0         \n",
            "_________________________________________________________________\n",
            "reshape_1 (Reshape)          (None, 16, 16, 128)       0         \n",
            "_________________________________________________________________\n",
            "up_sampling2d_1 (UpSampling2 (None, 32, 32, 128)       0         \n",
            "_________________________________________________________________\n",
            "conv2d_3 (Conv2D)            (None, 32, 32, 64)        204864    \n",
            "_________________________________________________________________\n",
            "activation_7 (Activation)    (None, 32, 32, 64)        0         \n",
            "_________________________________________________________________\n",
            "up_sampling2d_2 (UpSampling2 (None, 64, 64, 64)        0         \n",
            "_________________________________________________________________\n",
            "conv2d_4 (Conv2D)            (None, 64, 64, 3)         4803      \n",
            "_________________________________________________________________\n",
            "activation_8 (Activation)    (None, 64, 64, 3)         0         \n",
            "=================================================================\n",
            "Total params: 34,031,363\n",
            "Trainable params: 33,965,827\n",
            "Non-trainable params: 65,536\n",
            "_________________________________________________________________\n"
          ],
          "name": "stdout"
        }
      ]
    },
    {
      "cell_type": "markdown",
      "metadata": {
        "id": "raPbDnj7joxp"
      },
      "source": [
        "## ノイズから画像を生成します。"
      ]
    },
    {
      "cell_type": "markdown",
      "metadata": {
        "id": "BQ9Yp6I8c_Yx"
      },
      "source": [
        "ファイル名を設定します。"
      ]
    },
    {
      "cell_type": "code",
      "metadata": {
        "id": "P-wchOfCc_wJ"
      },
      "source": [
        "image_filename = 'image.png'"
      ],
      "execution_count": 5,
      "outputs": []
    },
    {
      "cell_type": "markdown",
      "metadata": {
        "id": "fi1DN0L6fthK"
      },
      "source": [
        "ノイズを生成して可視化します"
      ]
    },
    {
      "cell_type": "code",
      "metadata": {
        "id": "icbDXR_8duOp",
        "outputId": "9caf2c6e-31f6-4ebd-e34f-7d27643bd8cd",
        "colab": {
          "base_uri": "https://localhost:8080/",
          "height": 357
        }
      },
      "source": [
        "noise = np.random.uniform(size=[1, 100], low=-1.0, high=1.0)\n",
        "noise"
      ],
      "execution_count": 13,
      "outputs": [
        {
          "output_type": "execute_result",
          "data": {
            "text/plain": [
              "array([[-0.14311771,  0.27185278,  0.2754494 , -0.15554375, -0.43612377,\n",
              "        -0.71429072, -0.39468685, -0.84364702, -0.36492431,  0.41241564,\n",
              "        -0.57829209,  0.67916328,  0.31392627,  0.56547834,  0.52764287,\n",
              "         0.20968633,  0.44728607, -0.31254103,  0.46072722, -0.27031409,\n",
              "         0.30502998,  0.66808226,  0.61523166,  0.82001716,  0.42060981,\n",
              "        -0.57340123,  0.27028108,  0.11777708,  0.60069261,  0.08515603,\n",
              "         0.87385123,  0.35681785,  0.5730354 , -0.87116547, -0.58051728,\n",
              "        -0.90211802,  0.3000817 , -0.44341625, -0.40598565,  0.59009979,\n",
              "         0.91466497, -0.12766317, -0.4623849 , -0.65270523,  0.05896356,\n",
              "        -0.84195452,  0.9308248 , -0.91099042,  0.58736789, -0.45803789,\n",
              "        -0.05820331,  0.50036433,  0.66146368,  0.3422661 , -0.91049099,\n",
              "         0.27274259, -0.6335593 , -0.13358149,  0.05966681, -0.90583067,\n",
              "         0.49432256,  0.99022503,  0.61719563,  0.73662869,  0.95791825,\n",
              "        -0.81820813, -0.66349288,  0.59629486, -0.42112808,  0.60221266,\n",
              "        -0.73875996, -0.9797765 ,  0.89015404, -0.07317254, -0.94155895,\n",
              "        -0.01264683,  0.36632418, -0.5009495 ,  0.60769794, -0.93949563,\n",
              "        -0.65881201,  0.92741183, -0.54068707, -0.76898018,  0.76133418,\n",
              "         0.28247649,  0.10918671, -0.76156591, -0.92126347,  0.46198746,\n",
              "        -0.51488595, -0.37699211, -0.88758788,  0.08405473, -0.92525833,\n",
              "        -0.83352918, -0.70065237,  0.16199838,  0.67184852, -0.63701116]])"
            ]
          },
          "metadata": {
            "tags": []
          },
          "execution_count": 13
        }
      ]
    },
    {
      "cell_type": "code",
      "metadata": {
        "id": "iQEbUWmJd3P6",
        "outputId": "c190c965-b018-4a9c-f6e5-82f174aad002",
        "colab": {
          "base_uri": "https://localhost:8080/",
          "height": 72
        }
      },
      "source": [
        "pil_img = Image.fromarray((noise + 1) * 127.5)\n",
        "import matplotlib.pyplot as plt\n",
        "plt.imshow(pil_img)"
      ],
      "execution_count": 14,
      "outputs": [
        {
          "output_type": "execute_result",
          "data": {
            "text/plain": [
              "<matplotlib.image.AxesImage at 0x7ff4b3d51278>"
            ]
          },
          "metadata": {
            "tags": []
          },
          "execution_count": 14
        },
        {
          "output_type": "display_data",
          "data": {
            "image/png": "[encoded data removed]",
            "text/plain": [
              "<Figure size 432x288 with 1 Axes>"
            ]
          },
          "metadata": {
            "tags": [],
            "needs_background": "light"
          }
        }
      ]
    },
    {
      "cell_type": "markdown",
      "metadata": {
        "id": "40tthnpvfwFf"
      },
      "source": [
        "ノイズから画像を生成します。"
      ]
    },
    {
      "cell_type": "code",
      "metadata": {
        "id": "HiVfR6Z0Uppu"
      },
      "source": [
        "generated_images = generator_model.predict(noise)\n",
        "\n",
        "img = generated_images[0] * 127.5 + 127.5\n",
        "pil_img = Image.fromarray(np.uint8(img))\n",
        "pil_img.save(image_filename)"
      ],
      "execution_count": 15,
      "outputs": []
    },
    {
      "cell_type": "markdown",
      "metadata": {
        "id": "zp8qcrzIfy_J"
      },
      "source": [
        "生成した画像を表示します。"
      ]
    },
    {
      "cell_type": "code",
      "metadata": {
        "id": "9EambAXEdRZe",
        "outputId": "1e7db38b-0543-431e-8793-a7a07f0df17f",
        "colab": {
          "base_uri": "https://localhost:8080/",
          "height": 81
        }
      },
      "source": [
        "from IPython.display import Image as IPImage\n",
        "from IPython.display import display_png\n",
        "display_png(IPImage(image_filename))"
      ],
      "execution_count": 16,
      "outputs": [
        {
          "output_type": "display_data",
          "data": {
            "image/png": "[encoded data removed]"
          },
          "metadata": {
            "tags": []
          }
        }
      ]
    },
    {
      "cell_type": "markdown",
      "metadata": {
        "id": "Z1wSDW_Tkusa"
      },
      "source": [
        "画像を保存します"
      ]
    },
    {
      "cell_type": "code",
      "metadata": {
        "id": "gmETPZ5LUMpF"
      },
      "source": [
        "from google.colab import files\n",
        "files.download(image_filename)"
      ],
      "execution_count": null,
      "outputs": []
    }
  ]
}
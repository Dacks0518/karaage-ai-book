{
  "nbformat": 4,
  "nbformat_minor": 0,
  "metadata": {
    "colab": {
      "name": "02_karaage_ai_book_image_classification_on_camera.ipynb",
      "provenance": [],
      "collapsed_sections": [],
      "authorship_tag": "ABX9TyPc3OHydN/H9iYYQxPr3ub2",
      "include_colab_link": true
    },
    "kernelspec": {
      "name": "python3",
      "display_name": "Python 3"
    }
  },
  "cells": [
    {
      "cell_type": "markdown",
      "metadata": {
        "id": "view-in-github",
        "colab_type": "text"
      },
      "source": [
        "<a href=\"https://colab.research.google.com/github/karaage0703/karaage-ai-book/blob/master/ch02/02_karaage_ai_book_image_classification_on_camera.ipynb\" target=\"_parent\"><img src=\"https://colab.research.google.com/assets/colab-badge.svg\" alt=\"Open In Colab\"/></a>"
      ]
    },
    {
      "cell_type": "markdown",
      "metadata": {
        "id": "dBJYhtDxkQom"
      },
      "source": [
        "# カメラでの画像分類\n"
      ]
    },
    {
      "cell_type": "markdown",
      "metadata": {
        "id": "fgUg8-4VgjM_"
      },
      "source": [
        "学習させたモデルを使ってカメラ画像に対して画像判別をする。"
      ]
    },
    {
      "cell_type": "markdown",
      "metadata": {
        "id": "MR8zDuZpcrsa"
      },
      "source": [
        "## 事前準備"
      ]
    },
    {
      "cell_type": "code",
      "metadata": {
        "id": "OtYbzcsPkg6e",
        "outputId": "b75f9140-601e-4740-e622-ad26e66b6d74",
        "colab": {
          "base_uri": "https://localhost:8080/",
          "height": 34
        }
      },
      "source": [
        "%tensorflow_version 2.x\n",
        "import tensorflow as tf\n",
        "print(tf.__version__)"
      ],
      "execution_count": null,
      "outputs": [
        {
          "output_type": "stream",
          "text": [
            "2.3.0\n"
          ],
          "name": "stdout"
        }
      ]
    },
    {
      "cell_type": "code",
      "metadata": {
        "id": "NAzaEMEZluLy"
      },
      "source": [
        "from tensorflow.keras.preprocessing.image import img_to_array, load_img\n",
        "import numpy as np\n",
        "import time"
      ],
      "execution_count": null,
      "outputs": []
    },
    {
      "cell_type": "markdown",
      "metadata": {
        "id": "A3UvGkLmkjHN"
      },
      "source": [
        "モデルとラベルをGoogle Driveからコピーします。"
      ]
    },
    {
      "cell_type": "code",
      "metadata": {
        "id": "aNBqDFwukme5",
        "outputId": "c92e0c7e-903d-4946-d343-d21f80307552",
        "colab": {
          "base_uri": "https://localhost:8080/",
          "height": 34
        }
      },
      "source": [
        "from google.colab import drive\n",
        "drive.mount('/content/drive')"
      ],
      "execution_count": null,
      "outputs": [
        {
          "output_type": "stream",
          "text": [
            "Mounted at /content/drive\n"
          ],
          "name": "stdout"
        }
      ]
    },
    {
      "cell_type": "code",
      "metadata": {
        "id": "sRmnz5FjkvyS"
      },
      "source": [
        "!cp '/content/drive/My Drive/my_model.h5' './my_model.h5'\n",
        "!cp '/content/drive/My Drive/efficientnet_model.h5' './efficientnet_model.h5'\n",
        "!cp '/content/drive/My Drive/labels.txt' './labels.txt'"
      ],
      "execution_count": null,
      "outputs": []
    },
    {
      "cell_type": "code",
      "metadata": {
        "id": "HAMrF1KhzSwl",
        "outputId": "fc1bf951-64e8-472f-a361-c7e8fb7b79a2",
        "colab": {
          "base_uri": "https://localhost:8080/",
          "height": 119
        }
      },
      "source": [
        "!ls -lh"
      ],
      "execution_count": null,
      "outputs": [
        {
          "output_type": "stream",
          "text": [
            "total 124M\n",
            "drwx------ 5 root root 4.0K Oct 19 13:18 drive\n",
            "-rw------- 1 root root  34M Oct 19 13:18 efficientnet_model.h5\n",
            "-rw------- 1 root root   12 Oct 19 13:18 labels.txt\n",
            "-rw------- 1 root root  91M Oct 19 13:18 my_model.h5\n",
            "drwxr-xr-x 1 root root 4.0K Oct 14 16:31 sample_data\n"
          ],
          "name": "stdout"
        }
      ]
    },
    {
      "cell_type": "markdown",
      "metadata": {
        "id": "2I4uwnHmsRl7"
      },
      "source": [
        "ラベルを読み込みます"
      ]
    },
    {
      "cell_type": "code",
      "metadata": {
        "id": "DL3IxYtmsTAe",
        "outputId": "ef32d10d-78b6-4923-9f0f-287f0d17564d",
        "colab": {
          "base_uri": "https://localhost:8080/",
          "height": 34
        }
      },
      "source": [
        "labels = []\n",
        "with open('./labels.txt','r') as f:\n",
        "    for line in f:\n",
        "        labels.append(line.rstrip())\n",
        "print(labels)\n",
        "\n",
        "NUM_CLASSES = len(labels)"
      ],
      "execution_count": null,
      "outputs": [
        {
          "output_type": "stream",
          "text": [
            "['choki', 'gu', 'pa']\n"
          ],
          "name": "stdout"
        }
      ]
    },
    {
      "cell_type": "markdown",
      "metadata": {
        "id": "J8OumIjRdJUj"
      },
      "source": [
        "## モデルの変換"
      ]
    },
    {
      "cell_type": "markdown",
      "metadata": {
        "id": "_Czkj9kElCe9"
      },
      "source": [
        "モデルを読み込みます"
      ]
    },
    {
      "cell_type": "markdown",
      "metadata": {
        "id": "h8l9f28heJpu"
      },
      "source": [
        "MNISTベースの自作モデルを読み込む"
      ]
    },
    {
      "cell_type": "code",
      "metadata": {
        "id": "KqTp0rFWzflm"
      },
      "source": [
        "keras_model = tf.keras.models.load_model(\"my_model.h5\")"
      ],
      "execution_count": null,
      "outputs": []
    },
    {
      "cell_type": "markdown",
      "metadata": {
        "id": "3Dz5nlv_eMEW"
      },
      "source": [
        "EfficientNetモデルを読み込む"
      ]
    },
    {
      "cell_type": "code",
      "metadata": {
        "id": "hn73mVWZ1pSK",
        "outputId": "b713df9d-3e01-400e-c380-408cae57be85",
        "colab": {
          "base_uri": "https://localhost:8080/",
          "height": 173
        }
      },
      "source": [
        "# keras_model = tf.keras.models.load_model(\"efficientnet_model.h5\")\n",
        "\n",
        "import tensorflow_hub as hub\n",
        "keras_model = tf.keras.models.load_model('efficientnet_model.h5', custom_objects={'KerasLayer':hub.KerasLayer})"
      ],
      "execution_count": null,
      "outputs": [
        {
          "output_type": "stream",
          "text": [
            "WARNING:tensorflow:From /usr/local/lib/python3.6/dist-packages/tensorflow/python/ops/resource_variable_ops.py:1817: calling BaseResourceVariable.__init__ (from tensorflow.python.ops.resource_variable_ops) with constraint is deprecated and will be removed in a future version.\n",
            "Instructions for updating:\n",
            "If using Keras pass *_constraint arguments to layers.\n"
          ],
          "name": "stdout"
        },
        {
          "output_type": "stream",
          "text": [
            "WARNING:tensorflow:From /usr/local/lib/python3.6/dist-packages/tensorflow/python/ops/resource_variable_ops.py:1817: calling BaseResourceVariable.__init__ (from tensorflow.python.ops.resource_variable_ops) with constraint is deprecated and will be removed in a future version.\n",
            "Instructions for updating:\n",
            "If using Keras pass *_constraint arguments to layers.\n"
          ],
          "name": "stderr"
        },
        {
          "output_type": "stream",
          "text": [
            "WARNING:tensorflow:Error in loading the saved optimizer state. As a result, your model is starting with a freshly initialized optimizer.\n"
          ],
          "name": "stdout"
        },
        {
          "output_type": "stream",
          "text": [
            "WARNING:tensorflow:Error in loading the saved optimizer state. As a result, your model is starting with a freshly initialized optimizer.\n"
          ],
          "name": "stderr"
        }
      ]
    },
    {
      "cell_type": "markdown",
      "metadata": {
        "id": "S06WAfD8n-6m"
      },
      "source": [
        "データ水増しして学習させたMNISTベースの自作モデルを読み込む"
      ]
    },
    {
      "cell_type": "code",
      "metadata": {
        "id": "n59NFDa3n8ta"
      },
      "source": [
        "keras_model = tf.keras.models.load_model(\"my_model_aug.h5\")"
      ],
      "execution_count": null,
      "outputs": []
    },
    {
      "cell_type": "markdown",
      "metadata": {
        "id": "lEFCHu-w1p39"
      },
      "source": [
        "https://github.com/tensorflow/tensorflow/issues/26835"
      ]
    },
    {
      "cell_type": "markdown",
      "metadata": {
        "id": "aRCz5pd8dUcW"
      },
      "source": [
        "モデルを変換します。"
      ]
    },
    {
      "cell_type": "code",
      "metadata": {
        "id": "flKqGWXok8xt",
        "outputId": "197e2904-7810-4ab9-e936-f0fb537537a0",
        "colab": {
          "base_uri": "https://localhost:8080/",
          "height": 34
        }
      },
      "source": [
        "converter = tf.lite.TFLiteConverter.from_keras_model(keras_model)\n",
        "\n",
        "tflite_model = converter.convert()\n",
        "open(\"my_model.tflite\", \"wb\").write(tflite_model)"
      ],
      "execution_count": null,
      "outputs": [
        {
          "output_type": "execute_result",
          "data": {
            "text/plain": [
              "16016204"
            ]
          },
          "metadata": {
            "tags": []
          },
          "execution_count": 21
        }
      ]
    },
    {
      "cell_type": "markdown",
      "metadata": {
        "id": "NQRoDZQslQLf"
      },
      "source": [
        "## カメラで認識"
      ]
    },
    {
      "cell_type": "markdown",
      "metadata": {
        "id": "PsGeC0PshPcx"
      },
      "source": [
        "Webカメラを使うJavascriptのコードをダウンロードします。"
      ]
    },
    {
      "cell_type": "code",
      "metadata": {
        "id": "-CmL-aZRAz5U"
      },
      "source": [
        "!wget https://raw.githubusercontent.com/karaage0703/karaage-ai-book/master/util/colab_camera.py"
      ],
      "execution_count": null,
      "outputs": []
    },
    {
      "cell_type": "markdown",
      "metadata": {
        "id": "U23HbQgKBYR3"
      },
      "source": [
        "コードを読み込みます。"
      ]
    },
    {
      "cell_type": "code",
      "metadata": {
        "id": "tO53JtEdA4Tt"
      },
      "source": [
        "import colab_camera"
      ],
      "execution_count": null,
      "outputs": []
    },
    {
      "cell_type": "markdown",
      "metadata": {
        "id": "ngH5oj5chaYB"
      },
      "source": [
        "処理を行うコールバック関数を定義します。"
      ]
    },
    {
      "cell_type": "code",
      "metadata": {
        "id": "-6NQFFARhV86"
      },
      "source": [
        "import IPython\n",
        "from google.colab import output\n",
        "import cv2\n",
        "import numpy as np\n",
        "from PIL import Image\n",
        "from io import BytesIO\n",
        "import base64\n",
        "\n",
        "def run(img_str):\n",
        "    #decode to image\n",
        "    decimg = base64.b64decode(img_str.split(',')[1], validate=True)\n",
        "    decimg = Image.open(BytesIO(decimg))\n",
        "    decimg = np.array(decimg, dtype=np.uint8); \n",
        "    decimg = cv2.cvtColor(decimg, cv2.COLOR_BGR2RGB)\n",
        "\n",
        "    # image classify\n",
        "    img = cv2.resize(decimg, (64, 64))\n",
        "    img = img_to_array(img)\n",
        "    img = img / 255.0\n",
        "    img = img[np.newaxis]\n",
        "    img = np.asarray(img)\n",
        "    preds = keras_model.predict(img)\n",
        "    result = np.argmax(preds[0])\n",
        "\n",
        "    # draw output\n",
        "    out_img = decimg\n",
        "    cv2.putText(out_img, labels[result], (10,50), \\\n",
        "          cv2.FONT_HERSHEY_SIMPLEX, 1, (0, 0, 255), 1, cv2.LINE_AA)\n",
        "\n",
        "    #encode to string\n",
        "    _, encimg = cv2.imencode(\".jpg\", out_img, [int(cv2.IMWRITE_JPEG_QUALITY), 80])\n",
        "    img_str = encimg.tostring()\n",
        "    img_str = \"data:image/jpeg;base64,\" + base64.b64encode(img_str).decode('utf-8')\n",
        "    return IPython.display.JSON({'img_str': img_str})\n",
        "\n",
        "output.register_callback('notebook.run', run)"
      ],
      "execution_count": null,
      "outputs": []
    },
    {
      "cell_type": "code",
      "metadata": {
        "id": "sB8reukWimWG"
      },
      "source": [
        "colab_camera.use_cam()"
      ],
      "execution_count": null,
      "outputs": []
    },
    {
      "cell_type": "markdown",
      "metadata": {
        "id": "O257maL9kW7k"
      },
      "source": [
        "# 参考リンク\n",
        "\n",
        "- https://qiita.com/a2kiti/items/f32de4f51a31d609e5a5"
      ]
    }
  ]
}